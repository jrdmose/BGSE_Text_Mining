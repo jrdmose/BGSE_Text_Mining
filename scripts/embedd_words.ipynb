{
 "cells": [
  {
   "cell_type": "markdown",
   "metadata": {},
   "source": [
    "# Notebook for Embedding the cleaned and preprocessed tweets"
   ]
  },
  {
   "cell_type": "markdown",
   "metadata": {},
   "source": [
    "#### If you're just interested in outputs, scroll down and load pre-trained"
   ]
  },
  {
   "cell_type": "code",
   "execution_count": 1,
   "metadata": {},
   "outputs": [],
   "source": [
    "%load_ext autoreload\n",
    "%autoreload 2"
   ]
  },
  {
   "cell_type": "code",
   "execution_count": 2,
   "metadata": {},
   "outputs": [],
   "source": [
    "import pickle\n",
    "import numpy as np\n",
    "import pandas as pd\n",
    "import matplotlib.pyplot as plt\n",
    "import seaborn as sns\n",
    "from gensim.models import Word2Vec\n"
   ]
  },
  {
   "cell_type": "code",
   "execution_count": 3,
   "metadata": {},
   "outputs": [],
   "source": [
    "# Load tweets\n",
    "with open('../data/tweets_tokenized.pickle', 'rb') as f:\n",
    "    tweets_tokenized = pickle.load(f)"
   ]
  },
  {
   "cell_type": "markdown",
   "metadata": {},
   "source": [
    "## Training the W2V Model\n",
    "\n",
    "- What are the hyperparameters?\n",
    "- Which methods are used\n",
    "- How is it trained?\n",
    "\n",
    "Word2Vec takes a text corpus as an input and produces word vectors as output.\n",
    "- First constructs a vocabulary from the training data\n",
    "- Learns vector representation of words\n",
    "- Word vectors can be used for deriving word classes by performing k-means clustering on top of the word vectors \n",
    "\n",
    "Inputs for ```Word2Vec```\n",
    "- Sentences = Our tweets, in this case just a list\n",
    "- Sg: Defines the trainig algorithm 0: CBOW, 1:Skip-gram\n",
    "- Size: Dimensionality of the feature vector\n",
    "- Window: Maximum distance between current and predicted word within sentence\n",
    "- alpha: Initial learning rate\n",
    "- min_count: Ignore all words with total frequency lower than this\n",
    "- workers: Use this many workers to train the model\n",
    "- hs: If 1, hierarchical softmax will be used for model training, 0: and negative is non-zero, negative sampling will be used\n",
    "- negative:  if >0, negative sampling will be used, the integer specifies how many \"noise words\" should be drawn (usually between 5-20, default 5)\n",
    "- cbow_mean: If 0, use the sum of the context word vectors  \n",
    "- iter: Number of iterations over the corpus, default is 5\n",
    "- trim_rule: Vocab trimming rule\n",
    "- sorted_vocab: if 1 (default) sort the vocab by descending frequency before assigning word indexes\n",
    "- batch_words: target size (in words) for batches of examples passed to worker threads\n",
    "\n",
    "Inputs for ```Word2Vec.train()```\n",
    "\n",
    "\n",
    "- training is done on the list of list where each entry is a tokenized tweet\n",
    "- Train builds the vocabulary and trains the word2vec model\n",
    "\n",
    "How does it work?\n",
    "- Train a neural network with a hidden single layer where the goal is to predict the current word based on the context\n",
    "- The goal is to learn the weights of the hidden layer, which are essentially the word vectors we're trying to learn\n",
    "\n",
    "After training, we can discard the full model state and work just with the vectors."
   ]
  },
  {
   "cell_type": "markdown",
   "metadata": {},
   "source": [
    "### Detecting Phrases\n",
    "\n",
    "First we automatically detect phrases like Donald Trump or Hillary Clinton using gensims Phrases model.\n",
    "\n",
    "- Also a paper from the Word2Vec group!\n",
    "\n",
    "https://arxiv.org/abs/1310.4546"
   ]
  },
  {
   "cell_type": "code",
   "execution_count": 4,
   "metadata": {},
   "outputs": [],
   "source": [
    "import logging  # Setting up the loggings to monitor gensim\n",
    "logging.basicConfig(format=\"%(levelname)s - %(asctime)s: %(message)s\", datefmt= '%H:%M:%S', level=logging.INFO)"
   ]
  },
  {
   "cell_type": "code",
   "execution_count": 5,
   "metadata": {},
   "outputs": [],
   "source": [
    "# Import model\n",
    "from gensim.models.phrases import Phrases, Phraser"
   ]
  },
  {
   "cell_type": "code",
   "execution_count": 6,
   "metadata": {},
   "outputs": [
    {
     "name": "stderr",
     "output_type": "stream",
     "text": [
      "INFO - 00:15:25: collecting all words and their counts\n",
      "INFO - 00:15:25: PROGRESS: at sentence #0, processed 0 words and 0 word types\n",
      "INFO - 00:15:32: PROGRESS: at sentence #500000, processed 3669343 words and 1689657 word types\n",
      "INFO - 00:15:39: PROGRESS: at sentence #1000000, processed 7321675 words and 2813083 word types\n",
      "INFO - 00:15:46: PROGRESS: at sentence #1500000, processed 10974881 words and 3736305 word types\n",
      "INFO - 00:15:52: PROGRESS: at sentence #2000000, processed 14625667 words and 4536734 word types\n",
      "INFO - 00:16:00: PROGRESS: at sentence #2500000, processed 18277736 words and 5256368 word types\n",
      "INFO - 00:16:00: collected 5306633 word types from a corpus of 18542741 words (unigram + bigrams) and 2536417 sentences\n",
      "INFO - 00:16:00: using 5306633 counts as vocab in Phrases<0 vocab, min_count=30, threshold=10.0, max_vocab_size=40000000>\n"
     ]
    }
   ],
   "source": [
    "# train\n",
    "phrases = Phrases(tweets_tokenized, min_count=30, progress_per=500000)"
   ]
  },
  {
   "cell_type": "code",
   "execution_count": 7,
   "metadata": {},
   "outputs": [
    {
     "name": "stderr",
     "output_type": "stream",
     "text": [
      "INFO - 00:16:11: source_vocab length 5306633\n",
      "INFO - 00:17:05: Phraser built with 16614 phrasegrams\n"
     ]
    }
   ],
   "source": [
    "# Make bigrams\n",
    "bigram = Phraser(phrases)"
   ]
  },
  {
   "cell_type": "code",
   "execution_count": 8,
   "metadata": {},
   "outputs": [],
   "source": [
    "# Making the corpus\n",
    "tweets_clean =  bigram[tweets_tokenized]"
   ]
  },
  {
   "cell_type": "markdown",
   "metadata": {},
   "source": [
    "### W2V Model\n",
    "\n",
    "### CBOW vs Skip-gram and window size.\n",
    "\n",
    "- CBOW predicts a word based on its neighbors\n",
    "- Skip-gram predicts the neighbors of a word\n",
    "- Skip-gram thus learns more the context or domain, while CBOW is better suited for finding similar words\n",
    "- I think for our context skip-gram with a relatively large window (5-10) should be better to understand in which context each of the words is used\n",
    "- If the context of Trump is markedly different from Hillary, then we should see that using skip-gram\n"
   ]
  },
  {
   "cell_type": "code",
   "execution_count": 9,
   "metadata": {},
   "outputs": [
    {
     "data": {
      "text/plain": [
       "7.310604289436634"
      ]
     },
     "execution_count": 9,
     "metadata": {},
     "output_type": "execute_result"
    }
   ],
   "source": [
    "# Average tweet length\n",
    "np.mean([len(t) for t in tweets_tokenized])"
   ]
  },
  {
   "cell_type": "markdown",
   "metadata": {},
   "source": [
    "Average number of words in the tweets is 7. So a window of 4 should capture the whole tweet. (I think skip-gram downweighs importance of words that are farther away?)."
   ]
  },
  {
   "cell_type": "code",
   "execution_count": 12,
   "metadata": {},
   "outputs": [
    {
     "name": "stderr",
     "output_type": "stream",
     "text": [
      "INFO - 00:21:44: collecting all words and their counts\n",
      "INFO - 00:21:44: PROGRESS: at sentence #0, processed 0 words, keeping 0 word types\n",
      "INFO - 00:21:55: PROGRESS: at sentence #500000, processed 3293000 words, keeping 124809 word types\n",
      "INFO - 00:22:08: PROGRESS: at sentence #1000000, processed 6578497 words, keeping 171770 word types\n",
      "INFO - 00:22:20: PROGRESS: at sentence #1500000, processed 9864873 words, keeping 207260 word types\n",
      "INFO - 00:22:33: PROGRESS: at sentence #2000000, processed 13148889 words, keeping 236661 word types\n",
      "INFO - 00:22:45: PROGRESS: at sentence #2500000, processed 16433370 words, keeping 262933 word types\n",
      "INFO - 00:22:46: collected 264798 word types from a corpus of 16672129 raw words and 2536417 sentences\n",
      "INFO - 00:22:46: Loading a fresh vocabulary\n",
      "INFO - 00:22:46: effective_min_count=100 retains 17972 unique words (6% of original 264798, drops 246826)\n",
      "INFO - 00:22:46: effective_min_count=100 leaves 14567577 word corpus (87% of original 16672129, drops 2104552)\n",
      "INFO - 00:22:46: deleting the raw counts dictionary of 264798 items\n",
      "INFO - 00:22:46: sample=0.0001 downsamples 615 most-common words\n",
      "INFO - 00:22:46: downsampling leaves estimated 11315047 word corpus (77.7% of prior 14567577)\n",
      "INFO - 00:22:46: estimated required memory for 17972 words and 100 dimensions: 23363600 bytes\n",
      "INFO - 00:22:46: resetting layer weights\n",
      "INFO - 00:22:46: training model with 8 workers on 17972 vocabulary and 100 features, using sg=1 hs=0 sample=0.0001 negative=5 window=4\n",
      "INFO - 00:22:47: EPOCH 1 - PROGRESS: at 2.74% examples, 336871 words/s, in_qsize 15, out_qsize 0\n",
      "INFO - 00:22:48: EPOCH 1 - PROGRESS: at 5.86% examples, 367640 words/s, in_qsize 15, out_qsize 0\n",
      "INFO - 00:22:49: EPOCH 1 - PROGRESS: at 8.39% examples, 352605 words/s, in_qsize 15, out_qsize 1\n",
      "INFO - 00:22:50: EPOCH 1 - PROGRESS: at 11.19% examples, 354425 words/s, in_qsize 15, out_qsize 0\n",
      "INFO - 00:22:52: EPOCH 1 - PROGRESS: at 14.01% examples, 355959 words/s, in_qsize 15, out_qsize 0\n",
      "INFO - 00:22:53: EPOCH 1 - PROGRESS: at 16.91% examples, 358022 words/s, in_qsize 15, out_qsize 0\n",
      "INFO - 00:22:54: EPOCH 1 - PROGRESS: at 19.33% examples, 350924 words/s, in_qsize 15, out_qsize 3\n",
      "INFO - 00:22:55: EPOCH 1 - PROGRESS: at 22.46% examples, 356885 words/s, in_qsize 15, out_qsize 0\n",
      "INFO - 00:22:56: EPOCH 1 - PROGRESS: at 25.16% examples, 355351 words/s, in_qsize 14, out_qsize 1\n",
      "INFO - 00:22:57: EPOCH 1 - PROGRESS: at 28.29% examples, 358788 words/s, in_qsize 16, out_qsize 0\n",
      "INFO - 00:22:58: EPOCH 1 - PROGRESS: at 31.31% examples, 360587 words/s, in_qsize 15, out_qsize 0\n",
      "INFO - 00:22:59: EPOCH 1 - PROGRESS: at 34.23% examples, 360500 words/s, in_qsize 15, out_qsize 0\n",
      "INFO - 00:23:00: EPOCH 1 - PROGRESS: at 37.19% examples, 361898 words/s, in_qsize 15, out_qsize 0\n",
      "INFO - 00:23:01: EPOCH 1 - PROGRESS: at 40.10% examples, 362767 words/s, in_qsize 15, out_qsize 0\n",
      "INFO - 00:23:02: EPOCH 1 - PROGRESS: at 43.12% examples, 364331 words/s, in_qsize 14, out_qsize 1\n",
      "INFO - 00:23:03: EPOCH 1 - PROGRESS: at 46.09% examples, 364624 words/s, in_qsize 16, out_qsize 0\n",
      "INFO - 00:23:04: EPOCH 1 - PROGRESS: at 49.00% examples, 365055 words/s, in_qsize 15, out_qsize 0\n",
      "INFO - 00:23:05: EPOCH 1 - PROGRESS: at 52.03% examples, 365930 words/s, in_qsize 15, out_qsize 0\n",
      "INFO - 00:23:06: EPOCH 1 - PROGRESS: at 54.93% examples, 366318 words/s, in_qsize 15, out_qsize 0\n",
      "INFO - 00:23:07: EPOCH 1 - PROGRESS: at 58.07% examples, 367601 words/s, in_qsize 15, out_qsize 0\n",
      "INFO - 00:23:08: EPOCH 1 - PROGRESS: at 61.14% examples, 368169 words/s, in_qsize 15, out_qsize 0\n",
      "INFO - 00:23:09: EPOCH 1 - PROGRESS: at 64.11% examples, 368591 words/s, in_qsize 15, out_qsize 0\n",
      "INFO - 00:23:10: EPOCH 1 - PROGRESS: at 67.03% examples, 368810 words/s, in_qsize 15, out_qsize 0\n",
      "INFO - 00:23:11: EPOCH 1 - PROGRESS: at 70.05% examples, 369264 words/s, in_qsize 15, out_qsize 0\n",
      "INFO - 00:23:12: EPOCH 1 - PROGRESS: at 72.80% examples, 368436 words/s, in_qsize 15, out_qsize 0\n",
      "INFO - 00:23:13: EPOCH 1 - PROGRESS: at 75.93% examples, 369339 words/s, in_qsize 16, out_qsize 1\n",
      "INFO - 00:23:14: EPOCH 1 - PROGRESS: at 78.95% examples, 369898 words/s, in_qsize 14, out_qsize 2\n",
      "INFO - 00:23:15: EPOCH 1 - PROGRESS: at 81.97% examples, 370443 words/s, in_qsize 15, out_qsize 0\n",
      "INFO - 00:23:16: EPOCH 1 - PROGRESS: at 85.05% examples, 370967 words/s, in_qsize 14, out_qsize 1\n",
      "INFO - 00:23:17: EPOCH 1 - PROGRESS: at 88.17% examples, 371883 words/s, in_qsize 15, out_qsize 0\n",
      "INFO - 00:23:18: EPOCH 1 - PROGRESS: at 91.08% examples, 371443 words/s, in_qsize 15, out_qsize 0\n",
      "INFO - 00:23:19: EPOCH 1 - PROGRESS: at 94.33% examples, 372332 words/s, in_qsize 15, out_qsize 0\n",
      "INFO - 00:23:20: EPOCH 1 - PROGRESS: at 97.30% examples, 372573 words/s, in_qsize 16, out_qsize 0\n",
      "INFO - 00:23:21: worker thread finished; awaiting finish of 7 more threads\n",
      "INFO - 00:23:21: worker thread finished; awaiting finish of 6 more threads\n",
      "INFO - 00:23:21: worker thread finished; awaiting finish of 5 more threads\n",
      "INFO - 00:23:21: worker thread finished; awaiting finish of 4 more threads\n",
      "INFO - 00:23:21: worker thread finished; awaiting finish of 3 more threads\n",
      "INFO - 00:23:21: worker thread finished; awaiting finish of 2 more threads\n",
      "INFO - 00:23:21: worker thread finished; awaiting finish of 1 more threads\n",
      "INFO - 00:23:21: worker thread finished; awaiting finish of 0 more threads\n",
      "INFO - 00:23:21: EPOCH - 1 : training on 18542741 raw words (12860664 effective words) took 34.4s, 373414 effective words/s\n",
      "INFO - 00:23:22: EPOCH 2 - PROGRESS: at 2.68% examples, 333470 words/s, in_qsize 14, out_qsize 1\n",
      "INFO - 00:23:23: EPOCH 2 - PROGRESS: at 5.86% examples, 368386 words/s, in_qsize 15, out_qsize 0\n",
      "INFO - 00:23:24: EPOCH 2 - PROGRESS: at 8.82% examples, 372311 words/s, in_qsize 16, out_qsize 1\n",
      "INFO - 00:23:25: EPOCH 2 - PROGRESS: at 11.82% examples, 375290 words/s, in_qsize 15, out_qsize 0\n",
      "INFO - 00:23:26: EPOCH 2 - PROGRESS: at 14.87% examples, 375629 words/s, in_qsize 16, out_qsize 2\n",
      "INFO - 00:23:27: EPOCH 2 - PROGRESS: at 17.93% examples, 378675 words/s, in_qsize 14, out_qsize 1\n",
      "INFO - 00:23:28: EPOCH 2 - PROGRESS: at 21.00% examples, 380072 words/s, in_qsize 15, out_qsize 0\n",
      "INFO - 00:23:29: EPOCH 2 - PROGRESS: at 23.81% examples, 376879 words/s, in_qsize 16, out_qsize 1\n",
      "INFO - 00:23:30: EPOCH 2 - PROGRESS: at 26.89% examples, 378780 words/s, in_qsize 15, out_qsize 0\n",
      "INFO - 00:23:31: EPOCH 2 - PROGRESS: at 29.91% examples, 378914 words/s, in_qsize 15, out_qsize 0\n",
      "INFO - 00:23:32: EPOCH 2 - PROGRESS: at 32.93% examples, 379317 words/s, in_qsize 15, out_qsize 0\n",
      "INFO - 00:23:33: EPOCH 2 - PROGRESS: at 35.95% examples, 378542 words/s, in_qsize 15, out_qsize 0\n",
      "INFO - 00:23:34: EPOCH 2 - PROGRESS: at 39.08% examples, 379776 words/s, in_qsize 15, out_qsize 0\n",
      "INFO - 00:23:35: EPOCH 2 - PROGRESS: at 42.16% examples, 380297 words/s, in_qsize 14, out_qsize 1\n",
      "INFO - 00:23:36: EPOCH 2 - PROGRESS: at 45.29% examples, 381192 words/s, in_qsize 15, out_qsize 0\n",
      "INFO - 00:23:37: EPOCH 2 - PROGRESS: at 48.30% examples, 381168 words/s, in_qsize 15, out_qsize 0\n",
      "INFO - 00:23:38: EPOCH 2 - PROGRESS: at 51.38% examples, 381413 words/s, in_qsize 14, out_qsize 2\n",
      "INFO - 00:23:39: EPOCH 2 - PROGRESS: at 54.50% examples, 381975 words/s, in_qsize 15, out_qsize 0\n",
      "INFO - 00:23:40: EPOCH 2 - PROGRESS: at 57.47% examples, 381649 words/s, in_qsize 14, out_qsize 3\n",
      "INFO - 00:23:41: EPOCH 2 - PROGRESS: at 60.65% examples, 382323 words/s, in_qsize 16, out_qsize 0\n",
      "INFO - 00:23:42: EPOCH 2 - PROGRESS: at 63.62% examples, 382200 words/s, in_qsize 14, out_qsize 1\n",
      "INFO - 00:23:43: EPOCH 2 - PROGRESS: at 66.71% examples, 382017 words/s, in_qsize 15, out_qsize 0\n",
      "INFO - 00:23:44: EPOCH 2 - PROGRESS: at 69.73% examples, 382202 words/s, in_qsize 15, out_qsize 0\n",
      "INFO - 00:23:45: EPOCH 2 - PROGRESS: at 72.80% examples, 381800 words/s, in_qsize 15, out_qsize 0\n",
      "INFO - 00:23:46: EPOCH 2 - PROGRESS: at 75.88% examples, 382167 words/s, in_qsize 15, out_qsize 0\n",
      "INFO - 00:23:47: EPOCH 2 - PROGRESS: at 79.06% examples, 383047 words/s, in_qsize 16, out_qsize 0\n",
      "INFO - 00:23:48: EPOCH 2 - PROGRESS: at 82.13% examples, 382953 words/s, in_qsize 15, out_qsize 0\n",
      "INFO - 00:23:49: EPOCH 2 - PROGRESS: at 85.10% examples, 382490 words/s, in_qsize 15, out_qsize 0\n"
     ]
    },
    {
     "name": "stderr",
     "output_type": "stream",
     "text": [
      "INFO - 00:23:51: EPOCH 2 - PROGRESS: at 88.17% examples, 382324 words/s, in_qsize 15, out_qsize 0\n",
      "INFO - 00:23:52: EPOCH 2 - PROGRESS: at 91.30% examples, 382146 words/s, in_qsize 13, out_qsize 2\n",
      "INFO - 00:23:53: EPOCH 2 - PROGRESS: at 94.54% examples, 382783 words/s, in_qsize 15, out_qsize 0\n",
      "INFO - 00:23:54: EPOCH 2 - PROGRESS: at 97.51% examples, 382656 words/s, in_qsize 15, out_qsize 0\n",
      "INFO - 00:23:54: worker thread finished; awaiting finish of 7 more threads\n",
      "INFO - 00:23:54: worker thread finished; awaiting finish of 6 more threads\n",
      "INFO - 00:23:54: worker thread finished; awaiting finish of 5 more threads\n",
      "INFO - 00:23:54: worker thread finished; awaiting finish of 4 more threads\n",
      "INFO - 00:23:54: worker thread finished; awaiting finish of 3 more threads\n",
      "INFO - 00:23:54: worker thread finished; awaiting finish of 2 more threads\n",
      "INFO - 00:23:54: worker thread finished; awaiting finish of 1 more threads\n",
      "INFO - 00:23:54: worker thread finished; awaiting finish of 0 more threads\n",
      "INFO - 00:23:54: EPOCH - 2 : training on 18542741 raw words (12860403 effective words) took 33.6s, 382676 effective words/s\n",
      "INFO - 00:23:55: EPOCH 3 - PROGRESS: at 2.63% examples, 338288 words/s, in_qsize 15, out_qsize 0\n",
      "INFO - 00:23:56: EPOCH 3 - PROGRESS: at 5.70% examples, 366314 words/s, in_qsize 15, out_qsize 0\n",
      "INFO - 00:23:58: EPOCH 3 - PROGRESS: at 8.60% examples, 363267 words/s, in_qsize 13, out_qsize 2\n",
      "INFO - 00:23:59: EPOCH 3 - PROGRESS: at 11.77% examples, 374778 words/s, in_qsize 16, out_qsize 0\n",
      "INFO - 00:24:00: EPOCH 3 - PROGRESS: at 14.71% examples, 374256 words/s, in_qsize 15, out_qsize 0\n",
      "INFO - 00:24:01: EPOCH 3 - PROGRESS: at 17.83% examples, 378088 words/s, in_qsize 15, out_qsize 0\n",
      "INFO - 00:24:02: EPOCH 3 - PROGRESS: at 20.63% examples, 375645 words/s, in_qsize 15, out_qsize 0\n",
      "INFO - 00:24:03: EPOCH 3 - PROGRESS: at 23.70% examples, 376702 words/s, in_qsize 15, out_qsize 0\n",
      "INFO - 00:24:04: EPOCH 3 - PROGRESS: at 26.89% examples, 378892 words/s, in_qsize 15, out_qsize 0\n",
      "INFO - 00:24:05: EPOCH 3 - PROGRESS: at 29.91% examples, 379353 words/s, in_qsize 15, out_qsize 0\n",
      "INFO - 00:24:06: EPOCH 3 - PROGRESS: at 32.93% examples, 380044 words/s, in_qsize 15, out_qsize 0\n",
      "INFO - 00:24:07: EPOCH 3 - PROGRESS: at 36.11% examples, 382290 words/s, in_qsize 15, out_qsize 0\n",
      "INFO - 00:24:08: EPOCH 3 - PROGRESS: at 39.13% examples, 382418 words/s, in_qsize 15, out_qsize 2\n",
      "INFO - 00:24:09: EPOCH 3 - PROGRESS: at 42.10% examples, 382156 words/s, in_qsize 15, out_qsize 0\n",
      "INFO - 00:24:10: EPOCH 3 - PROGRESS: at 45.29% examples, 383608 words/s, in_qsize 15, out_qsize 0\n",
      "INFO - 00:24:11: EPOCH 3 - PROGRESS: at 48.41% examples, 384468 words/s, in_qsize 14, out_qsize 1\n",
      "INFO - 00:24:12: EPOCH 3 - PROGRESS: at 51.60% examples, 384983 words/s, in_qsize 16, out_qsize 0\n",
      "INFO - 00:24:13: EPOCH 3 - PROGRESS: at 54.61% examples, 384754 words/s, in_qsize 15, out_qsize 2\n",
      "INFO - 00:24:14: EPOCH 3 - PROGRESS: at 57.80% examples, 385800 words/s, in_qsize 14, out_qsize 1\n",
      "INFO - 00:24:15: EPOCH 3 - PROGRESS: at 60.70% examples, 385155 words/s, in_qsize 16, out_qsize 0\n",
      "INFO - 00:24:16: EPOCH 3 - PROGRESS: at 63.89% examples, 386175 words/s, in_qsize 16, out_qsize 0\n",
      "INFO - 00:24:17: EPOCH 3 - PROGRESS: at 66.82% examples, 385615 words/s, in_qsize 16, out_qsize 0\n",
      "INFO - 00:24:18: EPOCH 3 - PROGRESS: at 70.05% examples, 386202 words/s, in_qsize 15, out_qsize 0\n",
      "INFO - 00:24:19: EPOCH 3 - PROGRESS: at 73.12% examples, 386481 words/s, in_qsize 15, out_qsize 0\n",
      "INFO - 00:24:20: EPOCH 3 - PROGRESS: at 76.31% examples, 387122 words/s, in_qsize 15, out_qsize 0\n",
      "INFO - 00:24:21: EPOCH 3 - PROGRESS: at 79.22% examples, 386536 words/s, in_qsize 15, out_qsize 0\n",
      "INFO - 00:24:22: EPOCH 3 - PROGRESS: at 82.34% examples, 386712 words/s, in_qsize 16, out_qsize 1\n",
      "INFO - 00:24:23: EPOCH 3 - PROGRESS: at 85.48% examples, 386750 words/s, in_qsize 15, out_qsize 0\n",
      "INFO - 00:24:24: EPOCH 3 - PROGRESS: at 88.44% examples, 386514 words/s, in_qsize 16, out_qsize 1\n",
      "INFO - 00:24:25: EPOCH 3 - PROGRESS: at 91.62% examples, 386736 words/s, in_qsize 15, out_qsize 0\n",
      "INFO - 00:24:26: EPOCH 3 - PROGRESS: at 94.81% examples, 387391 words/s, in_qsize 16, out_qsize 0\n",
      "INFO - 00:24:27: EPOCH 3 - PROGRESS: at 97.84% examples, 387220 words/s, in_qsize 14, out_qsize 1\n",
      "INFO - 00:24:28: worker thread finished; awaiting finish of 7 more threads\n",
      "INFO - 00:24:28: worker thread finished; awaiting finish of 6 more threads\n",
      "INFO - 00:24:28: worker thread finished; awaiting finish of 5 more threads\n",
      "INFO - 00:24:28: worker thread finished; awaiting finish of 4 more threads\n",
      "INFO - 00:24:28: worker thread finished; awaiting finish of 3 more threads\n",
      "INFO - 00:24:28: worker thread finished; awaiting finish of 2 more threads\n",
      "INFO - 00:24:28: worker thread finished; awaiting finish of 1 more threads\n",
      "INFO - 00:24:28: worker thread finished; awaiting finish of 0 more threads\n",
      "INFO - 00:24:28: EPOCH - 3 : training on 18542741 raw words (12862843 effective words) took 33.2s, 387848 effective words/s\n",
      "INFO - 00:24:29: EPOCH 4 - PROGRESS: at 2.79% examples, 357456 words/s, in_qsize 16, out_qsize 0\n",
      "INFO - 00:24:30: EPOCH 4 - PROGRESS: at 5.97% examples, 377112 words/s, in_qsize 15, out_qsize 0\n",
      "INFO - 00:24:31: EPOCH 4 - PROGRESS: at 9.09% examples, 380843 words/s, in_qsize 15, out_qsize 0\n",
      "INFO - 00:24:32: EPOCH 4 - PROGRESS: at 12.19% examples, 382128 words/s, in_qsize 16, out_qsize 0\n",
      "INFO - 00:24:33: EPOCH 4 - PROGRESS: at 15.30% examples, 385942 words/s, in_qsize 16, out_qsize 0\n",
      "INFO - 00:24:34: EPOCH 4 - PROGRESS: at 18.31% examples, 385855 words/s, in_qsize 16, out_qsize 0\n",
      "INFO - 00:24:35: EPOCH 4 - PROGRESS: at 21.38% examples, 386856 words/s, in_qsize 16, out_qsize 0\n",
      "INFO - 00:24:36: EPOCH 4 - PROGRESS: at 24.35% examples, 386027 words/s, in_qsize 15, out_qsize 0\n",
      "INFO - 00:24:37: EPOCH 4 - PROGRESS: at 27.43% examples, 386782 words/s, in_qsize 15, out_qsize 0\n",
      "INFO - 00:24:38: EPOCH 4 - PROGRESS: at 30.56% examples, 387942 words/s, in_qsize 15, out_qsize 0\n",
      "INFO - 00:24:39: EPOCH 4 - PROGRESS: at 33.58% examples, 387869 words/s, in_qsize 15, out_qsize 0\n",
      "INFO - 00:24:40: EPOCH 4 - PROGRESS: at 36.50% examples, 385858 words/s, in_qsize 14, out_qsize 1\n",
      "INFO - 00:24:41: EPOCH 4 - PROGRESS: at 39.72% examples, 387190 words/s, in_qsize 15, out_qsize 0\n",
      "INFO - 00:24:42: EPOCH 4 - PROGRESS: at 42.69% examples, 386497 words/s, in_qsize 14, out_qsize 1\n",
      "INFO - 00:24:43: EPOCH 4 - PROGRESS: at 45.88% examples, 387795 words/s, in_qsize 15, out_qsize 0\n",
      "INFO - 00:24:44: EPOCH 4 - PROGRESS: at 48.84% examples, 386610 words/s, in_qsize 15, out_qsize 0\n",
      "INFO - 00:24:45: EPOCH 4 - PROGRESS: at 52.08% examples, 388152 words/s, in_qsize 15, out_qsize 0\n",
      "INFO - 00:24:46: EPOCH 4 - PROGRESS: at 55.20% examples, 388831 words/s, in_qsize 16, out_qsize 0\n",
      "INFO - 00:24:47: EPOCH 4 - PROGRESS: at 58.12% examples, 387973 words/s, in_qsize 15, out_qsize 0\n",
      "INFO - 00:24:48: EPOCH 4 - PROGRESS: at 61.35% examples, 388611 words/s, in_qsize 15, out_qsize 0\n",
      "INFO - 00:24:49: EPOCH 4 - PROGRESS: at 64.27% examples, 386969 words/s, in_qsize 15, out_qsize 0\n",
      "INFO - 00:24:50: EPOCH 4 - PROGRESS: at 67.35% examples, 386929 words/s, in_qsize 15, out_qsize 0\n",
      "INFO - 00:24:51: EPOCH 4 - PROGRESS: at 70.27% examples, 386341 words/s, in_qsize 15, out_qsize 0\n",
      "INFO - 00:24:52: EPOCH 4 - PROGRESS: at 73.07% examples, 385057 words/s, in_qsize 15, out_qsize 2\n",
      "INFO - 00:24:53: EPOCH 4 - PROGRESS: at 76.04% examples, 384047 words/s, in_qsize 16, out_qsize 2\n",
      "INFO - 00:24:54: EPOCH 4 - PROGRESS: at 79.11% examples, 384235 words/s, in_qsize 15, out_qsize 0\n",
      "INFO - 00:24:55: EPOCH 4 - PROGRESS: at 82.13% examples, 384350 words/s, in_qsize 15, out_qsize 0\n",
      "INFO - 00:24:56: EPOCH 4 - PROGRESS: at 85.10% examples, 383767 words/s, in_qsize 14, out_qsize 1\n",
      "INFO - 00:24:57: EPOCH 4 - PROGRESS: at 88.12% examples, 383155 words/s, in_qsize 15, out_qsize 0\n",
      "INFO - 00:24:58: EPOCH 4 - PROGRESS: at 91.24% examples, 383520 words/s, in_qsize 16, out_qsize 2\n",
      "INFO - 00:24:59: EPOCH 4 - PROGRESS: at 94.38% examples, 383963 words/s, in_qsize 14, out_qsize 1\n",
      "INFO - 00:25:00: EPOCH 4 - PROGRESS: at 97.40% examples, 384054 words/s, in_qsize 16, out_qsize 1\n",
      "INFO - 00:25:01: worker thread finished; awaiting finish of 7 more threads\n",
      "INFO - 00:25:01: worker thread finished; awaiting finish of 6 more threads\n"
     ]
    },
    {
     "name": "stderr",
     "output_type": "stream",
     "text": [
      "INFO - 00:25:01: worker thread finished; awaiting finish of 5 more threads\n",
      "INFO - 00:25:01: worker thread finished; awaiting finish of 4 more threads\n",
      "INFO - 00:25:01: worker thread finished; awaiting finish of 3 more threads\n",
      "INFO - 00:25:01: worker thread finished; awaiting finish of 2 more threads\n",
      "INFO - 00:25:01: worker thread finished; awaiting finish of 1 more threads\n",
      "INFO - 00:25:01: worker thread finished; awaiting finish of 0 more threads\n",
      "INFO - 00:25:01: EPOCH - 4 : training on 18542741 raw words (12861731 effective words) took 33.4s, 384507 effective words/s\n",
      "INFO - 00:25:02: EPOCH 5 - PROGRESS: at 2.85% examples, 363488 words/s, in_qsize 15, out_qsize 0\n",
      "INFO - 00:25:03: EPOCH 5 - PROGRESS: at 5.81% examples, 369050 words/s, in_qsize 15, out_qsize 0\n",
      "INFO - 00:25:04: EPOCH 5 - PROGRESS: at 8.87% examples, 376857 words/s, in_qsize 15, out_qsize 0\n",
      "INFO - 00:25:05: EPOCH 5 - PROGRESS: at 11.93% examples, 379205 words/s, in_qsize 15, out_qsize 0\n",
      "INFO - 00:25:06: EPOCH 5 - PROGRESS: at 15.09% examples, 383966 words/s, in_qsize 15, out_qsize 0\n",
      "INFO - 00:25:07: EPOCH 5 - PROGRESS: at 18.04% examples, 382508 words/s, in_qsize 15, out_qsize 0\n",
      "INFO - 00:25:08: EPOCH 5 - PROGRESS: at 21.27% examples, 385558 words/s, in_qsize 15, out_qsize 0\n",
      "INFO - 00:25:09: EPOCH 5 - PROGRESS: at 24.35% examples, 386376 words/s, in_qsize 15, out_qsize 0\n",
      "INFO - 00:25:10: EPOCH 5 - PROGRESS: at 27.48% examples, 387573 words/s, in_qsize 15, out_qsize 0\n",
      "INFO - 00:25:11: EPOCH 5 - PROGRESS: at 30.56% examples, 386360 words/s, in_qsize 13, out_qsize 2\n",
      "INFO - 00:25:12: EPOCH 5 - PROGRESS: at 33.69% examples, 387178 words/s, in_qsize 16, out_qsize 0\n",
      "INFO - 00:25:13: EPOCH 5 - PROGRESS: at 36.71% examples, 386328 words/s, in_qsize 15, out_qsize 0\n",
      "INFO - 00:25:14: EPOCH 5 - PROGRESS: at 39.83% examples, 387448 words/s, in_qsize 14, out_qsize 1\n",
      "INFO - 00:25:15: EPOCH 5 - PROGRESS: at 42.80% examples, 386990 words/s, in_qsize 16, out_qsize 1\n",
      "INFO - 00:25:16: EPOCH 5 - PROGRESS: at 45.88% examples, 386852 words/s, in_qsize 15, out_qsize 0\n",
      "INFO - 00:25:17: EPOCH 5 - PROGRESS: at 49.16% examples, 387931 words/s, in_qsize 15, out_qsize 0\n",
      "INFO - 00:25:18: EPOCH 5 - PROGRESS: at 52.14% examples, 387365 words/s, in_qsize 16, out_qsize 0\n",
      "INFO - 00:25:19: EPOCH 5 - PROGRESS: at 55.37% examples, 388838 words/s, in_qsize 15, out_qsize 0\n",
      "INFO - 00:25:20: EPOCH 5 - PROGRESS: at 58.50% examples, 388895 words/s, in_qsize 16, out_qsize 0\n",
      "INFO - 00:25:22: EPOCH 5 - PROGRESS: at 61.67% examples, 389544 words/s, in_qsize 15, out_qsize 0\n",
      "INFO - 00:25:23: EPOCH 5 - PROGRESS: at 64.86% examples, 390375 words/s, in_qsize 15, out_qsize 0\n",
      "INFO - 00:25:24: EPOCH 5 - PROGRESS: at 67.89% examples, 389833 words/s, in_qsize 15, out_qsize 0\n",
      "INFO - 00:25:25: EPOCH 5 - PROGRESS: at 70.97% examples, 390017 words/s, in_qsize 15, out_qsize 0\n",
      "INFO - 00:25:26: EPOCH 5 - PROGRESS: at 73.99% examples, 389956 words/s, in_qsize 15, out_qsize 0\n",
      "INFO - 00:25:27: EPOCH 5 - PROGRESS: at 77.11% examples, 390152 words/s, in_qsize 13, out_qsize 2\n",
      "INFO - 00:25:28: EPOCH 5 - PROGRESS: at 80.13% examples, 389944 words/s, in_qsize 14, out_qsize 1\n",
      "INFO - 00:25:29: EPOCH 5 - PROGRESS: at 83.37% examples, 390365 words/s, in_qsize 15, out_qsize 0\n",
      "INFO - 00:25:30: EPOCH 5 - PROGRESS: at 86.50% examples, 390598 words/s, in_qsize 15, out_qsize 0\n",
      "INFO - 00:25:31: EPOCH 5 - PROGRESS: at 89.52% examples, 389974 words/s, in_qsize 15, out_qsize 0\n",
      "INFO - 00:25:32: EPOCH 5 - PROGRESS: at 92.70% examples, 390356 words/s, in_qsize 13, out_qsize 2\n",
      "INFO - 00:25:33: EPOCH 5 - PROGRESS: at 95.94% examples, 390524 words/s, in_qsize 16, out_qsize 1\n",
      "INFO - 00:25:34: EPOCH 5 - PROGRESS: at 98.91% examples, 390221 words/s, in_qsize 13, out_qsize 2\n",
      "INFO - 00:25:34: worker thread finished; awaiting finish of 7 more threads\n",
      "INFO - 00:25:34: worker thread finished; awaiting finish of 6 more threads\n",
      "INFO - 00:25:34: worker thread finished; awaiting finish of 5 more threads\n",
      "INFO - 00:25:34: worker thread finished; awaiting finish of 4 more threads\n",
      "INFO - 00:25:34: worker thread finished; awaiting finish of 3 more threads\n",
      "INFO - 00:25:34: worker thread finished; awaiting finish of 2 more threads\n",
      "INFO - 00:25:34: worker thread finished; awaiting finish of 1 more threads\n",
      "INFO - 00:25:34: worker thread finished; awaiting finish of 0 more threads\n",
      "INFO - 00:25:34: EPOCH - 5 : training on 18542741 raw words (12860935 effective words) took 32.9s, 391224 effective words/s\n",
      "INFO - 00:25:34: training on a 92713705 raw words (64306576 effective words) took 167.6s, 383692 effective words/s\n",
      "INFO - 00:25:34: saving Word2Vec object under ../models/w2v_skipgram_w4.model, separately None\n",
      "INFO - 00:25:34: not storing attribute vectors_norm\n",
      "INFO - 00:25:34: not storing attribute cum_table\n",
      "WARNING - 00:25:34: this function is deprecated, use smart_open.open instead\n",
      "INFO - 00:25:34: saved ../models/w2v_skipgram_w4.model\n"
     ]
    }
   ],
   "source": [
    "# Skip-gram model, without building vocabulary yet\n",
    "w2v_model = Word2Vec(size=100, # layers of Neural Network, same as dimensionality of output\n",
    "             alpha = 0.025, # Initial learning rate\n",
    "             window=4, # Window size for context\n",
    "             sg = 1, #Model 0: CBOW, 1: Skip-gram, trying with skip-gram here\n",
    "             min_count=100, # I'm fairly conservative here to remove misspellings!\n",
    "             sample = 1e-4, # Downsample frequent words, is akin to removing stop words, lower values are stricter!\n",
    "             workers=8, # Nr of threads to train\n",
    "             negative = 5, # Nr of noise words\n",
    "             iter = 5)\n",
    "\n",
    "# Building the vocabulary\n",
    "w2v_model.build_vocab(tweets_clean, progress_per=500000)\n",
    "\n",
    "# Training the model\n",
    "w2v_model.train(tweets_tokenized, total_examples=w2v_model.corpus_count, epochs=5, report_delay=1)\n",
    "\n",
    "# Save the model\n",
    "w2v_model.save(f\"../models/w2v_skipgram_w4.model\")"
   ]
  },
  {
   "cell_type": "markdown",
   "metadata": {},
   "source": [
    "### Exploring outputs of embeddings"
   ]
  },
  {
   "cell_type": "code",
   "execution_count": 3,
   "metadata": {},
   "outputs": [],
   "source": [
    "# Reload model \n",
    "w2v_model  = Word2Vec.load(\"../models/w2v_skipgram_w4.model\")"
   ]
  },
  {
   "cell_type": "code",
   "execution_count": 4,
   "metadata": {
    "scrolled": true
   },
   "outputs": [],
   "source": [
    "# Just keep precomputed vectors\n",
    "w2v_model.init_sims(replace=True)"
   ]
  },
  {
   "cell_type": "code",
   "execution_count": 5,
   "metadata": {},
   "outputs": [],
   "source": [
    "from utils.comparison import get_most_similar\n",
    "\n",
    "models = [w2v_model]\n",
    "\n",
    "model_names = ['Skip Gram']"
   ]
  },
  {
   "cell_type": "code",
   "execution_count": 6,
   "metadata": {},
   "outputs": [
    {
     "name": "stdout",
     "output_type": "stream",
     "text": [
      "Most similar words per model for word: trump\n"
     ]
    },
    {
     "data": {
      "text/html": [
       "<div>\n",
       "<style scoped>\n",
       "    .dataframe tbody tr th:only-of-type {\n",
       "        vertical-align: middle;\n",
       "    }\n",
       "\n",
       "    .dataframe tbody tr th {\n",
       "        vertical-align: top;\n",
       "    }\n",
       "\n",
       "    .dataframe thead th {\n",
       "        text-align: right;\n",
       "    }\n",
       "</style>\n",
       "<table border=\"1\" class=\"dataframe\">\n",
       "  <thead>\n",
       "    <tr style=\"text-align: right;\">\n",
       "      <th></th>\n",
       "      <th>Skip Gram - Word</th>\n",
       "      <th>Skip Gram - Similarity</th>\n",
       "    </tr>\n",
       "  </thead>\n",
       "  <tbody>\n",
       "    <tr>\n",
       "      <th>0</th>\n",
       "      <td>donald</td>\n",
       "      <td>0.896358</td>\n",
       "    </tr>\n",
       "    <tr>\n",
       "      <th>1</th>\n",
       "      <td>trumps</td>\n",
       "      <td>0.791140</td>\n",
       "    </tr>\n",
       "    <tr>\n",
       "      <th>2</th>\n",
       "      <td>pres</td>\n",
       "      <td>0.770282</td>\n",
       "    </tr>\n",
       "    <tr>\n",
       "      <th>3</th>\n",
       "      <td>feedly</td>\n",
       "      <td>0.762091</td>\n",
       "    </tr>\n",
       "    <tr>\n",
       "      <th>4</th>\n",
       "      <td>illegitimate</td>\n",
       "      <td>0.755011</td>\n",
       "    </tr>\n",
       "    <tr>\n",
       "      <th>5</th>\n",
       "      <td>president</td>\n",
       "      <td>0.742422</td>\n",
       "    </tr>\n",
       "    <tr>\n",
       "      <th>6</th>\n",
       "      <td>trum</td>\n",
       "      <td>0.736769</td>\n",
       "    </tr>\n",
       "    <tr>\n",
       "      <th>7</th>\n",
       "      <td>administration</td>\n",
       "      <td>0.728688</td>\n",
       "    </tr>\n",
       "    <tr>\n",
       "      <th>8</th>\n",
       "      <td>donaldtrump</td>\n",
       "      <td>0.728006</td>\n",
       "    </tr>\n",
       "    <tr>\n",
       "      <th>9</th>\n",
       "      <td>rnc</td>\n",
       "      <td>0.725931</td>\n",
       "    </tr>\n",
       "  </tbody>\n",
       "</table>\n",
       "</div>"
      ],
      "text/plain": [
       "  Skip Gram - Word  Skip Gram - Similarity\n",
       "0           donald                0.896358\n",
       "1           trumps                0.791140\n",
       "2             pres                0.770282\n",
       "3           feedly                0.762091\n",
       "4     illegitimate                0.755011\n",
       "5        president                0.742422\n",
       "6             trum                0.736769\n",
       "7   administration                0.728688\n",
       "8      donaldtrump                0.728006\n",
       "9              rnc                0.725931"
      ]
     },
     "execution_count": 6,
     "metadata": {},
     "output_type": "execute_result"
    }
   ],
   "source": [
    "get_most_similar(models,\"trump\",n_similar=10, model_names=model_names)"
   ]
  },
  {
   "cell_type": "code",
   "execution_count": 16,
   "metadata": {},
   "outputs": [
    {
     "name": "stdout",
     "output_type": "stream",
     "text": [
      "Most similar words per model for word: donald_trump\n"
     ]
    },
    {
     "data": {
      "text/html": [
       "<div>\n",
       "<style scoped>\n",
       "    .dataframe tbody tr th:only-of-type {\n",
       "        vertical-align: middle;\n",
       "    }\n",
       "\n",
       "    .dataframe tbody tr th {\n",
       "        vertical-align: top;\n",
       "    }\n",
       "\n",
       "    .dataframe thead th {\n",
       "        text-align: right;\n",
       "    }\n",
       "</style>\n",
       "<table border=\"1\" class=\"dataframe\">\n",
       "  <thead>\n",
       "    <tr style=\"text-align: right;\">\n",
       "      <th></th>\n",
       "      <th>Skip Gram - Word</th>\n",
       "      <th>Skip Gram - Similarity</th>\n",
       "    </tr>\n",
       "  </thead>\n",
       "  <tbody>\n",
       "    <tr>\n",
       "      <th>0</th>\n",
       "      <td>melania_trump</td>\n",
       "      <td>0.913523</td>\n",
       "    </tr>\n",
       "    <tr>\n",
       "      <th>1</th>\n",
       "      <td>make_money</td>\n",
       "      <td>0.908309</td>\n",
       "    </tr>\n",
       "    <tr>\n",
       "      <th>2</th>\n",
       "      <td>sean_spicer</td>\n",
       "      <td>0.905902</td>\n",
       "    </tr>\n",
       "    <tr>\n",
       "      <th>3</th>\n",
       "      <td>aaron_hernandez</td>\n",
       "      <td>0.900620</td>\n",
       "    </tr>\n",
       "    <tr>\n",
       "      <th>4</th>\n",
       "      <td>la_la</td>\n",
       "      <td>0.897225</td>\n",
       "    </tr>\n",
       "    <tr>\n",
       "      <th>5</th>\n",
       "      <td>nigel_farage</td>\n",
       "      <td>0.890334</td>\n",
       "    </tr>\n",
       "    <tr>\n",
       "      <th>6</th>\n",
       "      <td>las_vegas</td>\n",
       "      <td>0.888912</td>\n",
       "    </tr>\n",
       "    <tr>\n",
       "      <th>7</th>\n",
       "      <td>white_house</td>\n",
       "      <td>0.885947</td>\n",
       "    </tr>\n",
       "    <tr>\n",
       "      <th>8</th>\n",
       "      <td>2016_election</td>\n",
       "      <td>0.885862</td>\n",
       "    </tr>\n",
       "    <tr>\n",
       "      <th>9</th>\n",
       "      <td>santa_barbara</td>\n",
       "      <td>0.884849</td>\n",
       "    </tr>\n",
       "  </tbody>\n",
       "</table>\n",
       "</div>"
      ],
      "text/plain": [
       "  Skip Gram - Word  Skip Gram - Similarity\n",
       "0    melania_trump                0.913523\n",
       "1       make_money                0.908309\n",
       "2      sean_spicer                0.905902\n",
       "3  aaron_hernandez                0.900620\n",
       "4            la_la                0.897225\n",
       "5     nigel_farage                0.890334\n",
       "6        las_vegas                0.888912\n",
       "7      white_house                0.885947\n",
       "8    2016_election                0.885862\n",
       "9    santa_barbara                0.884849"
      ]
     },
     "execution_count": 16,
     "metadata": {},
     "output_type": "execute_result"
    }
   ],
   "source": [
    "get_most_similar(models,\"donald_trump\",n_similar=10, model_names=model_names)"
   ]
  },
  {
   "cell_type": "code",
   "execution_count": 7,
   "metadata": {},
   "outputs": [
    {
     "name": "stdout",
     "output_type": "stream",
     "text": [
      "Most similar words per model for word: clinton\n"
     ]
    },
    {
     "data": {
      "text/html": [
       "<div>\n",
       "<style scoped>\n",
       "    .dataframe tbody tr th:only-of-type {\n",
       "        vertical-align: middle;\n",
       "    }\n",
       "\n",
       "    .dataframe tbody tr th {\n",
       "        vertical-align: top;\n",
       "    }\n",
       "\n",
       "    .dataframe thead th {\n",
       "        text-align: right;\n",
       "    }\n",
       "</style>\n",
       "<table border=\"1\" class=\"dataframe\">\n",
       "  <thead>\n",
       "    <tr style=\"text-align: right;\">\n",
       "      <th></th>\n",
       "      <th>Skip Gram - Word</th>\n",
       "      <th>Skip Gram - Similarity</th>\n",
       "    </tr>\n",
       "  </thead>\n",
       "  <tbody>\n",
       "    <tr>\n",
       "      <th>0</th>\n",
       "      <td>hillary</td>\n",
       "      <td>0.935136</td>\n",
       "    </tr>\n",
       "    <tr>\n",
       "      <th>1</th>\n",
       "      <td>hillaryclinton</td>\n",
       "      <td>0.783674</td>\n",
       "    </tr>\n",
       "    <tr>\n",
       "      <th>2</th>\n",
       "      <td>clintons</td>\n",
       "      <td>0.781306</td>\n",
       "    </tr>\n",
       "    <tr>\n",
       "      <th>3</th>\n",
       "      <td>hrc</td>\n",
       "      <td>0.765259</td>\n",
       "    </tr>\n",
       "    <tr>\n",
       "      <th>4</th>\n",
       "      <td>campaign</td>\n",
       "      <td>0.741458</td>\n",
       "    </tr>\n",
       "    <tr>\n",
       "      <th>5</th>\n",
       "      <td>sanders</td>\n",
       "      <td>0.738335</td>\n",
       "    </tr>\n",
       "    <tr>\n",
       "      <th>6</th>\n",
       "      <td>emails</td>\n",
       "      <td>0.724602</td>\n",
       "    </tr>\n",
       "    <tr>\n",
       "      <th>7</th>\n",
       "      <td>crookedhillary</td>\n",
       "      <td>0.723004</td>\n",
       "    </tr>\n",
       "    <tr>\n",
       "      <th>8</th>\n",
       "      <td>hillarys</td>\n",
       "      <td>0.721376</td>\n",
       "    </tr>\n",
       "    <tr>\n",
       "      <th>9</th>\n",
       "      <td>billclinton</td>\n",
       "      <td>0.717722</td>\n",
       "    </tr>\n",
       "  </tbody>\n",
       "</table>\n",
       "</div>"
      ],
      "text/plain": [
       "  Skip Gram - Word  Skip Gram - Similarity\n",
       "0          hillary                0.935136\n",
       "1   hillaryclinton                0.783674\n",
       "2         clintons                0.781306\n",
       "3              hrc                0.765259\n",
       "4         campaign                0.741458\n",
       "5          sanders                0.738335\n",
       "6           emails                0.724602\n",
       "7   crookedhillary                0.723004\n",
       "8         hillarys                0.721376\n",
       "9      billclinton                0.717722"
      ]
     },
     "execution_count": 7,
     "metadata": {},
     "output_type": "execute_result"
    }
   ],
   "source": [
    "get_most_similar(models,\"clinton\",n_similar=10, model_names=model_names)"
   ]
  },
  {
   "cell_type": "code",
   "execution_count": 18,
   "metadata": {},
   "outputs": [
    {
     "name": "stdout",
     "output_type": "stream",
     "text": [
      "Most similar words per model for word: sanders\n"
     ]
    },
    {
     "data": {
      "text/html": [
       "<div>\n",
       "<style scoped>\n",
       "    .dataframe tbody tr th:only-of-type {\n",
       "        vertical-align: middle;\n",
       "    }\n",
       "\n",
       "    .dataframe tbody tr th {\n",
       "        vertical-align: top;\n",
       "    }\n",
       "\n",
       "    .dataframe thead th {\n",
       "        text-align: right;\n",
       "    }\n",
       "</style>\n",
       "<table border=\"1\" class=\"dataframe\">\n",
       "  <thead>\n",
       "    <tr style=\"text-align: right;\">\n",
       "      <th></th>\n",
       "      <th>Skip Gram - Word</th>\n",
       "      <th>Skip Gram - Similarity</th>\n",
       "    </tr>\n",
       "  </thead>\n",
       "  <tbody>\n",
       "    <tr>\n",
       "      <th>0</th>\n",
       "      <td>bernie</td>\n",
       "      <td>0.891267</td>\n",
       "    </tr>\n",
       "    <tr>\n",
       "      <th>1</th>\n",
       "      <td>clinton</td>\n",
       "      <td>0.738335</td>\n",
       "    </tr>\n",
       "    <tr>\n",
       "      <th>2</th>\n",
       "      <td>caucuses</td>\n",
       "      <td>0.735310</td>\n",
       "    </tr>\n",
       "    <tr>\n",
       "      <th>3</th>\n",
       "      <td>democratic</td>\n",
       "      <td>0.703262</td>\n",
       "    </tr>\n",
       "    <tr>\n",
       "      <th>4</th>\n",
       "      <td>delegates</td>\n",
       "      <td>0.686254</td>\n",
       "    </tr>\n",
       "    <tr>\n",
       "      <th>5</th>\n",
       "      <td>hillary</td>\n",
       "      <td>0.682518</td>\n",
       "    </tr>\n",
       "    <tr>\n",
       "      <th>6</th>\n",
       "      <td>berniesanders</td>\n",
       "      <td>0.681937</td>\n",
       "    </tr>\n",
       "    <tr>\n",
       "      <th>7</th>\n",
       "      <td>primary</td>\n",
       "      <td>0.679528</td>\n",
       "    </tr>\n",
       "    <tr>\n",
       "      <th>8</th>\n",
       "      <td>malley</td>\n",
       "      <td>0.677264</td>\n",
       "    </tr>\n",
       "    <tr>\n",
       "      <th>9</th>\n",
       "      <td>suppoers</td>\n",
       "      <td>0.653194</td>\n",
       "    </tr>\n",
       "  </tbody>\n",
       "</table>\n",
       "</div>"
      ],
      "text/plain": [
       "  Skip Gram - Word  Skip Gram - Similarity\n",
       "0           bernie                0.891267\n",
       "1          clinton                0.738335\n",
       "2         caucuses                0.735310\n",
       "3       democratic                0.703262\n",
       "4        delegates                0.686254\n",
       "5          hillary                0.682518\n",
       "6    berniesanders                0.681937\n",
       "7          primary                0.679528\n",
       "8           malley                0.677264\n",
       "9         suppoers                0.653194"
      ]
     },
     "execution_count": 18,
     "metadata": {},
     "output_type": "execute_result"
    }
   ],
   "source": [
    "get_most_similar(models,\"sanders\",n_similar=10, model_names=model_names)"
   ]
  },
  {
   "cell_type": "code",
   "execution_count": 29,
   "metadata": {},
   "outputs": [
    {
     "name": "stdout",
     "output_type": "stream",
     "text": [
      "Most similar words per model for word: russia\n"
     ]
    },
    {
     "data": {
      "text/html": [
       "<div>\n",
       "<style scoped>\n",
       "    .dataframe tbody tr th:only-of-type {\n",
       "        vertical-align: middle;\n",
       "    }\n",
       "\n",
       "    .dataframe tbody tr th {\n",
       "        vertical-align: top;\n",
       "    }\n",
       "\n",
       "    .dataframe thead th {\n",
       "        text-align: right;\n",
       "    }\n",
       "</style>\n",
       "<table border=\"1\" class=\"dataframe\">\n",
       "  <thead>\n",
       "    <tr style=\"text-align: right;\">\n",
       "      <th></th>\n",
       "      <th>Skip Gram - Word</th>\n",
       "      <th>Skip Gram - Similarity</th>\n",
       "    </tr>\n",
       "  </thead>\n",
       "  <tbody>\n",
       "    <tr>\n",
       "      <th>0</th>\n",
       "      <td>russian</td>\n",
       "      <td>0.840399</td>\n",
       "    </tr>\n",
       "    <tr>\n",
       "      <th>1</th>\n",
       "      <td>putin</td>\n",
       "      <td>0.830774</td>\n",
       "    </tr>\n",
       "    <tr>\n",
       "      <th>2</th>\n",
       "      <td>meddling</td>\n",
       "      <td>0.812936</td>\n",
       "    </tr>\n",
       "    <tr>\n",
       "      <th>3</th>\n",
       "      <td>interference</td>\n",
       "      <td>0.811977</td>\n",
       "    </tr>\n",
       "    <tr>\n",
       "      <th>4</th>\n",
       "      <td>kremlin</td>\n",
       "      <td>0.796493</td>\n",
       "    </tr>\n",
       "    <tr>\n",
       "      <th>5</th>\n",
       "      <td>collusion</td>\n",
       "      <td>0.794644</td>\n",
       "    </tr>\n",
       "    <tr>\n",
       "      <th>6</th>\n",
       "      <td>russians</td>\n",
       "      <td>0.778914</td>\n",
       "    </tr>\n",
       "    <tr>\n",
       "      <th>7</th>\n",
       "      <td>colluded</td>\n",
       "      <td>0.765595</td>\n",
       "    </tr>\n",
       "    <tr>\n",
       "      <th>8</th>\n",
       "      <td>trumprussia</td>\n",
       "      <td>0.764843</td>\n",
       "    </tr>\n",
       "    <tr>\n",
       "      <th>9</th>\n",
       "      <td>colluding</td>\n",
       "      <td>0.763210</td>\n",
       "    </tr>\n",
       "  </tbody>\n",
       "</table>\n",
       "</div>"
      ],
      "text/plain": [
       "  Skip Gram - Word  Skip Gram - Similarity\n",
       "0          russian                0.840399\n",
       "1            putin                0.830774\n",
       "2         meddling                0.812936\n",
       "3     interference                0.811977\n",
       "4          kremlin                0.796493\n",
       "5        collusion                0.794644\n",
       "6         russians                0.778914\n",
       "7         colluded                0.765595\n",
       "8      trumprussia                0.764843\n",
       "9        colluding                0.763210"
      ]
     },
     "execution_count": 29,
     "metadata": {},
     "output_type": "execute_result"
    }
   ],
   "source": [
    "get_most_similar(models,\"russia\",n_similar=10, model_names=model_names)"
   ]
  },
  {
   "cell_type": "code",
   "execution_count": 30,
   "metadata": {},
   "outputs": [
    {
     "name": "stdout",
     "output_type": "stream",
     "text": [
      "Most similar words per model for word: dnc\n"
     ]
    },
    {
     "data": {
      "text/html": [
       "<div>\n",
       "<style scoped>\n",
       "    .dataframe tbody tr th:only-of-type {\n",
       "        vertical-align: middle;\n",
       "    }\n",
       "\n",
       "    .dataframe tbody tr th {\n",
       "        vertical-align: top;\n",
       "    }\n",
       "\n",
       "    .dataframe thead th {\n",
       "        text-align: right;\n",
       "    }\n",
       "</style>\n",
       "<table border=\"1\" class=\"dataframe\">\n",
       "  <thead>\n",
       "    <tr style=\"text-align: right;\">\n",
       "      <th></th>\n",
       "      <th>Skip Gram - Word</th>\n",
       "      <th>Skip Gram - Similarity</th>\n",
       "    </tr>\n",
       "  </thead>\n",
       "  <tbody>\n",
       "    <tr>\n",
       "      <th>0</th>\n",
       "      <td>dncleaks</td>\n",
       "      <td>0.793856</td>\n",
       "    </tr>\n",
       "    <tr>\n",
       "      <th>1</th>\n",
       "      <td>sethrich</td>\n",
       "      <td>0.752307</td>\n",
       "    </tr>\n",
       "    <tr>\n",
       "      <th>2</th>\n",
       "      <td>dncleak</td>\n",
       "      <td>0.736866</td>\n",
       "    </tr>\n",
       "    <tr>\n",
       "      <th>3</th>\n",
       "      <td>wikileaks</td>\n",
       "      <td>0.736354</td>\n",
       "    </tr>\n",
       "    <tr>\n",
       "      <th>4</th>\n",
       "      <td>podesta</td>\n",
       "      <td>0.733175</td>\n",
       "    </tr>\n",
       "    <tr>\n",
       "      <th>5</th>\n",
       "      <td>colluded</td>\n",
       "      <td>0.718254</td>\n",
       "    </tr>\n",
       "    <tr>\n",
       "      <th>6</th>\n",
       "      <td>podestaemails</td>\n",
       "      <td>0.695742</td>\n",
       "    </tr>\n",
       "    <tr>\n",
       "      <th>7</th>\n",
       "      <td>hillary</td>\n",
       "      <td>0.683261</td>\n",
       "    </tr>\n",
       "    <tr>\n",
       "      <th>8</th>\n",
       "      <td>schultz</td>\n",
       "      <td>0.682104</td>\n",
       "    </tr>\n",
       "    <tr>\n",
       "      <th>9</th>\n",
       "      <td>hrc</td>\n",
       "      <td>0.681093</td>\n",
       "    </tr>\n",
       "  </tbody>\n",
       "</table>\n",
       "</div>"
      ],
      "text/plain": [
       "  Skip Gram - Word  Skip Gram - Similarity\n",
       "0         dncleaks                0.793856\n",
       "1         sethrich                0.752307\n",
       "2          dncleak                0.736866\n",
       "3        wikileaks                0.736354\n",
       "4          podesta                0.733175\n",
       "5         colluded                0.718254\n",
       "6    podestaemails                0.695742\n",
       "7          hillary                0.683261\n",
       "8          schultz                0.682104\n",
       "9              hrc                0.681093"
      ]
     },
     "execution_count": 30,
     "metadata": {},
     "output_type": "execute_result"
    }
   ],
   "source": [
    "get_most_similar(models,\"dnc\",n_similar=10, model_names=model_names)"
   ]
  },
  {
   "cell_type": "code",
   "execution_count": 31,
   "metadata": {},
   "outputs": [
    {
     "name": "stdout",
     "output_type": "stream",
     "text": [
      "Most similar words per model for word: rnc\n"
     ]
    },
    {
     "data": {
      "text/html": [
       "<div>\n",
       "<style scoped>\n",
       "    .dataframe tbody tr th:only-of-type {\n",
       "        vertical-align: middle;\n",
       "    }\n",
       "\n",
       "    .dataframe tbody tr th {\n",
       "        vertical-align: top;\n",
       "    }\n",
       "\n",
       "    .dataframe thead th {\n",
       "        text-align: right;\n",
       "    }\n",
       "</style>\n",
       "<table border=\"1\" class=\"dataframe\">\n",
       "  <thead>\n",
       "    <tr style=\"text-align: right;\">\n",
       "      <th></th>\n",
       "      <th>Skip Gram - Word</th>\n",
       "      <th>Skip Gram - Similarity</th>\n",
       "    </tr>\n",
       "  </thead>\n",
       "  <tbody>\n",
       "    <tr>\n",
       "      <th>0</th>\n",
       "      <td>campaign</td>\n",
       "      <td>0.737262</td>\n",
       "    </tr>\n",
       "    <tr>\n",
       "      <th>1</th>\n",
       "      <td>trump</td>\n",
       "      <td>0.725931</td>\n",
       "    </tr>\n",
       "    <tr>\n",
       "      <th>2</th>\n",
       "      <td>fec</td>\n",
       "      <td>0.724749</td>\n",
       "    </tr>\n",
       "    <tr>\n",
       "      <th>3</th>\n",
       "      <td>republican</td>\n",
       "      <td>0.698081</td>\n",
       "    </tr>\n",
       "    <tr>\n",
       "      <th>4</th>\n",
       "      <td>gop</td>\n",
       "      <td>0.693239</td>\n",
       "    </tr>\n",
       "    <tr>\n",
       "      <th>5</th>\n",
       "      <td>clinton</td>\n",
       "      <td>0.691404</td>\n",
       "    </tr>\n",
       "    <tr>\n",
       "      <th>6</th>\n",
       "      <td>donald</td>\n",
       "      <td>0.668286</td>\n",
       "    </tr>\n",
       "    <tr>\n",
       "      <th>7</th>\n",
       "      <td>wh</td>\n",
       "      <td>0.658502</td>\n",
       "    </tr>\n",
       "    <tr>\n",
       "      <th>8</th>\n",
       "      <td>dnc</td>\n",
       "      <td>0.658034</td>\n",
       "    </tr>\n",
       "    <tr>\n",
       "      <th>9</th>\n",
       "      <td>priebus</td>\n",
       "      <td>0.654263</td>\n",
       "    </tr>\n",
       "  </tbody>\n",
       "</table>\n",
       "</div>"
      ],
      "text/plain": [
       "  Skip Gram - Word  Skip Gram - Similarity\n",
       "0         campaign                0.737262\n",
       "1            trump                0.725931\n",
       "2              fec                0.724749\n",
       "3       republican                0.698081\n",
       "4              gop                0.693239\n",
       "5          clinton                0.691404\n",
       "6           donald                0.668286\n",
       "7               wh                0.658502\n",
       "8              dnc                0.658034\n",
       "9          priebus                0.654263"
      ]
     },
     "execution_count": 31,
     "metadata": {},
     "output_type": "execute_result"
    }
   ],
   "source": [
    "get_most_similar(models,\"rnc\",n_similar=10, model_names=model_names)"
   ]
  },
  {
   "cell_type": "code",
   "execution_count": 32,
   "metadata": {},
   "outputs": [
    {
     "name": "stdout",
     "output_type": "stream",
     "text": [
      "Most similar words per model for word: republican\n"
     ]
    },
    {
     "data": {
      "text/html": [
       "<div>\n",
       "<style scoped>\n",
       "    .dataframe tbody tr th:only-of-type {\n",
       "        vertical-align: middle;\n",
       "    }\n",
       "\n",
       "    .dataframe tbody tr th {\n",
       "        vertical-align: top;\n",
       "    }\n",
       "\n",
       "    .dataframe thead th {\n",
       "        text-align: right;\n",
       "    }\n",
       "</style>\n",
       "<table border=\"1\" class=\"dataframe\">\n",
       "  <thead>\n",
       "    <tr style=\"text-align: right;\">\n",
       "      <th></th>\n",
       "      <th>Skip Gram - Word</th>\n",
       "      <th>Skip Gram - Similarity</th>\n",
       "    </tr>\n",
       "  </thead>\n",
       "  <tbody>\n",
       "    <tr>\n",
       "      <th>0</th>\n",
       "      <td>gop</td>\n",
       "      <td>0.915800</td>\n",
       "    </tr>\n",
       "    <tr>\n",
       "      <th>1</th>\n",
       "      <td>democratic</td>\n",
       "      <td>0.827757</td>\n",
       "    </tr>\n",
       "    <tr>\n",
       "      <th>2</th>\n",
       "      <td>democrat</td>\n",
       "      <td>0.787232</td>\n",
       "    </tr>\n",
       "    <tr>\n",
       "      <th>3</th>\n",
       "      <td>dem</td>\n",
       "      <td>0.779586</td>\n",
       "    </tr>\n",
       "    <tr>\n",
       "      <th>4</th>\n",
       "      <td>republicans</td>\n",
       "      <td>0.755805</td>\n",
       "    </tr>\n",
       "    <tr>\n",
       "      <th>5</th>\n",
       "      <td>establishment</td>\n",
       "      <td>0.738279</td>\n",
       "    </tr>\n",
       "    <tr>\n",
       "      <th>6</th>\n",
       "      <td>debate</td>\n",
       "      <td>0.727369</td>\n",
       "    </tr>\n",
       "    <tr>\n",
       "      <th>7</th>\n",
       "      <td>democrats</td>\n",
       "      <td>0.723869</td>\n",
       "    </tr>\n",
       "    <tr>\n",
       "      <th>8</th>\n",
       "      <td>candidate</td>\n",
       "      <td>0.721619</td>\n",
       "    </tr>\n",
       "    <tr>\n",
       "      <th>9</th>\n",
       "      <td>candidates</td>\n",
       "      <td>0.720943</td>\n",
       "    </tr>\n",
       "  </tbody>\n",
       "</table>\n",
       "</div>"
      ],
      "text/plain": [
       "  Skip Gram - Word  Skip Gram - Similarity\n",
       "0              gop                0.915800\n",
       "1       democratic                0.827757\n",
       "2         democrat                0.787232\n",
       "3              dem                0.779586\n",
       "4      republicans                0.755805\n",
       "5    establishment                0.738279\n",
       "6           debate                0.727369\n",
       "7        democrats                0.723869\n",
       "8        candidate                0.721619\n",
       "9       candidates                0.720943"
      ]
     },
     "execution_count": 32,
     "metadata": {},
     "output_type": "execute_result"
    }
   ],
   "source": [
    "get_most_similar(models,\"republican\",n_similar=10, model_names=model_names)"
   ]
  },
  {
   "cell_type": "code",
   "execution_count": 33,
   "metadata": {},
   "outputs": [
    {
     "name": "stdout",
     "output_type": "stream",
     "text": [
      "Most similar words per model for word: democrat\n"
     ]
    },
    {
     "data": {
      "text/html": [
       "<div>\n",
       "<style scoped>\n",
       "    .dataframe tbody tr th:only-of-type {\n",
       "        vertical-align: middle;\n",
       "    }\n",
       "\n",
       "    .dataframe tbody tr th {\n",
       "        vertical-align: top;\n",
       "    }\n",
       "\n",
       "    .dataframe thead th {\n",
       "        text-align: right;\n",
       "    }\n",
       "</style>\n",
       "<table border=\"1\" class=\"dataframe\">\n",
       "  <thead>\n",
       "    <tr style=\"text-align: right;\">\n",
       "      <th></th>\n",
       "      <th>Skip Gram - Word</th>\n",
       "      <th>Skip Gram - Similarity</th>\n",
       "    </tr>\n",
       "  </thead>\n",
       "  <tbody>\n",
       "    <tr>\n",
       "      <th>0</th>\n",
       "      <td>dem</td>\n",
       "      <td>0.855282</td>\n",
       "    </tr>\n",
       "    <tr>\n",
       "      <th>1</th>\n",
       "      <td>democratic</td>\n",
       "      <td>0.789744</td>\n",
       "    </tr>\n",
       "    <tr>\n",
       "      <th>2</th>\n",
       "      <td>republican</td>\n",
       "      <td>0.787232</td>\n",
       "    </tr>\n",
       "    <tr>\n",
       "      <th>3</th>\n",
       "      <td>democrats</td>\n",
       "      <td>0.771444</td>\n",
       "    </tr>\n",
       "    <tr>\n",
       "      <th>4</th>\n",
       "      <td>dems</td>\n",
       "      <td>0.756351</td>\n",
       "    </tr>\n",
       "    <tr>\n",
       "      <th>5</th>\n",
       "      <td>ossoff</td>\n",
       "      <td>0.733773</td>\n",
       "    </tr>\n",
       "    <tr>\n",
       "      <th>6</th>\n",
       "      <td>illegitimate</td>\n",
       "      <td>0.721017</td>\n",
       "    </tr>\n",
       "    <tr>\n",
       "      <th>7</th>\n",
       "      <td>gop</td>\n",
       "      <td>0.710186</td>\n",
       "    </tr>\n",
       "    <tr>\n",
       "      <th>8</th>\n",
       "      <td>candidate</td>\n",
       "      <td>0.702210</td>\n",
       "    </tr>\n",
       "    <tr>\n",
       "      <th>9</th>\n",
       "      <td>establishment</td>\n",
       "      <td>0.689336</td>\n",
       "    </tr>\n",
       "  </tbody>\n",
       "</table>\n",
       "</div>"
      ],
      "text/plain": [
       "  Skip Gram - Word  Skip Gram - Similarity\n",
       "0              dem                0.855282\n",
       "1       democratic                0.789744\n",
       "2       republican                0.787232\n",
       "3        democrats                0.771444\n",
       "4             dems                0.756351\n",
       "5           ossoff                0.733773\n",
       "6     illegitimate                0.721017\n",
       "7              gop                0.710186\n",
       "8        candidate                0.702210\n",
       "9    establishment                0.689336"
      ]
     },
     "execution_count": 33,
     "metadata": {},
     "output_type": "execute_result"
    }
   ],
   "source": [
    "get_most_similar(models,\"democrat\",n_similar=10, model_names=model_names)"
   ]
  },
  {
   "cell_type": "code",
   "execution_count": 34,
   "metadata": {},
   "outputs": [
    {
     "name": "stdout",
     "output_type": "stream",
     "text": [
      "Most similar words per model for word: liberal\n"
     ]
    },
    {
     "data": {
      "text/html": [
       "<div>\n",
       "<style scoped>\n",
       "    .dataframe tbody tr th:only-of-type {\n",
       "        vertical-align: middle;\n",
       "    }\n",
       "\n",
       "    .dataframe tbody tr th {\n",
       "        vertical-align: top;\n",
       "    }\n",
       "\n",
       "    .dataframe thead th {\n",
       "        text-align: right;\n",
       "    }\n",
       "</style>\n",
       "<table border=\"1\" class=\"dataframe\">\n",
       "  <thead>\n",
       "    <tr style=\"text-align: right;\">\n",
       "      <th></th>\n",
       "      <th>Skip Gram - Word</th>\n",
       "      <th>Skip Gram - Similarity</th>\n",
       "    </tr>\n",
       "  </thead>\n",
       "  <tbody>\n",
       "    <tr>\n",
       "      <th>0</th>\n",
       "      <td>leftist</td>\n",
       "      <td>0.844711</td>\n",
       "    </tr>\n",
       "    <tr>\n",
       "      <th>1</th>\n",
       "      <td>liberals</td>\n",
       "      <td>0.800079</td>\n",
       "    </tr>\n",
       "    <tr>\n",
       "      <th>2</th>\n",
       "      <td>lib</td>\n",
       "      <td>0.793328</td>\n",
       "    </tr>\n",
       "    <tr>\n",
       "      <th>3</th>\n",
       "      <td>libtard</td>\n",
       "      <td>0.772492</td>\n",
       "    </tr>\n",
       "    <tr>\n",
       "      <th>4</th>\n",
       "      <td>elitist</td>\n",
       "      <td>0.770209</td>\n",
       "    </tr>\n",
       "    <tr>\n",
       "      <th>5</th>\n",
       "      <td>leftists</td>\n",
       "      <td>0.767796</td>\n",
       "    </tr>\n",
       "    <tr>\n",
       "      <th>6</th>\n",
       "      <td>libs</td>\n",
       "      <td>0.765834</td>\n",
       "    </tr>\n",
       "    <tr>\n",
       "      <th>7</th>\n",
       "      <td>msm</td>\n",
       "      <td>0.752870</td>\n",
       "    </tr>\n",
       "    <tr>\n",
       "      <th>8</th>\n",
       "      <td>hypocritical</td>\n",
       "      <td>0.744076</td>\n",
       "    </tr>\n",
       "    <tr>\n",
       "      <th>9</th>\n",
       "      <td>fakenewsmedia</td>\n",
       "      <td>0.741612</td>\n",
       "    </tr>\n",
       "  </tbody>\n",
       "</table>\n",
       "</div>"
      ],
      "text/plain": [
       "  Skip Gram - Word  Skip Gram - Similarity\n",
       "0          leftist                0.844711\n",
       "1         liberals                0.800079\n",
       "2              lib                0.793328\n",
       "3          libtard                0.772492\n",
       "4          elitist                0.770209\n",
       "5         leftists                0.767796\n",
       "6             libs                0.765834\n",
       "7              msm                0.752870\n",
       "8     hypocritical                0.744076\n",
       "9    fakenewsmedia                0.741612"
      ]
     },
     "execution_count": 34,
     "metadata": {},
     "output_type": "execute_result"
    }
   ],
   "source": [
    "get_most_similar(models,\"liberal\",n_similar=10, model_names=model_names)"
   ]
  },
  {
   "cell_type": "code",
   "execution_count": 35,
   "metadata": {},
   "outputs": [
    {
     "name": "stdout",
     "output_type": "stream",
     "text": [
      "Most similar words per model for word: conservative\n"
     ]
    },
    {
     "data": {
      "text/html": [
       "<div>\n",
       "<style scoped>\n",
       "    .dataframe tbody tr th:only-of-type {\n",
       "        vertical-align: middle;\n",
       "    }\n",
       "\n",
       "    .dataframe tbody tr th {\n",
       "        vertical-align: top;\n",
       "    }\n",
       "\n",
       "    .dataframe thead th {\n",
       "        text-align: right;\n",
       "    }\n",
       "</style>\n",
       "<table border=\"1\" class=\"dataframe\">\n",
       "  <thead>\n",
       "    <tr style=\"text-align: right;\">\n",
       "      <th></th>\n",
       "      <th>Skip Gram - Word</th>\n",
       "      <th>Skip Gram - Similarity</th>\n",
       "    </tr>\n",
       "  </thead>\n",
       "  <tbody>\n",
       "    <tr>\n",
       "      <th>0</th>\n",
       "      <td>conservatives</td>\n",
       "      <td>0.760171</td>\n",
       "    </tr>\n",
       "    <tr>\n",
       "      <th>1</th>\n",
       "      <td>liberal</td>\n",
       "      <td>0.700967</td>\n",
       "    </tr>\n",
       "    <tr>\n",
       "      <th>2</th>\n",
       "      <td>establishment</td>\n",
       "      <td>0.694517</td>\n",
       "    </tr>\n",
       "    <tr>\n",
       "      <th>3</th>\n",
       "      <td>republican</td>\n",
       "      <td>0.663298</td>\n",
       "    </tr>\n",
       "    <tr>\n",
       "      <th>4</th>\n",
       "      <td>cruz2016</td>\n",
       "      <td>0.655790</td>\n",
       "    </tr>\n",
       "    <tr>\n",
       "      <th>5</th>\n",
       "      <td>outsider</td>\n",
       "      <td>0.655283</td>\n",
       "    </tr>\n",
       "    <tr>\n",
       "      <th>6</th>\n",
       "      <td>gop</td>\n",
       "      <td>0.645559</td>\n",
       "    </tr>\n",
       "    <tr>\n",
       "      <th>7</th>\n",
       "      <td>lib</td>\n",
       "      <td>0.642008</td>\n",
       "    </tr>\n",
       "    <tr>\n",
       "      <th>8</th>\n",
       "      <td>grassroots</td>\n",
       "      <td>0.641870</td>\n",
       "    </tr>\n",
       "    <tr>\n",
       "      <th>9</th>\n",
       "      <td>progressive</td>\n",
       "      <td>0.641821</td>\n",
       "    </tr>\n",
       "  </tbody>\n",
       "</table>\n",
       "</div>"
      ],
      "text/plain": [
       "  Skip Gram - Word  Skip Gram - Similarity\n",
       "0    conservatives                0.760171\n",
       "1          liberal                0.700967\n",
       "2    establishment                0.694517\n",
       "3       republican                0.663298\n",
       "4         cruz2016                0.655790\n",
       "5         outsider                0.655283\n",
       "6              gop                0.645559\n",
       "7              lib                0.642008\n",
       "8       grassroots                0.641870\n",
       "9      progressive                0.641821"
      ]
     },
     "execution_count": 35,
     "metadata": {},
     "output_type": "execute_result"
    }
   ],
   "source": [
    "get_most_similar(models,\"conservative\",n_similar=10, model_names=model_names)"
   ]
  },
  {
   "cell_type": "code",
   "execution_count": 36,
   "metadata": {},
   "outputs": [
    {
     "name": "stdout",
     "output_type": "stream",
     "text": [
      "Most similar words per model for word: islam\n"
     ]
    },
    {
     "data": {
      "text/html": [
       "<div>\n",
       "<style scoped>\n",
       "    .dataframe tbody tr th:only-of-type {\n",
       "        vertical-align: middle;\n",
       "    }\n",
       "\n",
       "    .dataframe tbody tr th {\n",
       "        vertical-align: top;\n",
       "    }\n",
       "\n",
       "    .dataframe thead th {\n",
       "        text-align: right;\n",
       "    }\n",
       "</style>\n",
       "<table border=\"1\" class=\"dataframe\">\n",
       "  <thead>\n",
       "    <tr style=\"text-align: right;\">\n",
       "      <th></th>\n",
       "      <th>Skip Gram - Word</th>\n",
       "      <th>Skip Gram - Similarity</th>\n",
       "    </tr>\n",
       "  </thead>\n",
       "  <tbody>\n",
       "    <tr>\n",
       "      <th>0</th>\n",
       "      <td>muslims</td>\n",
       "      <td>0.837124</td>\n",
       "    </tr>\n",
       "    <tr>\n",
       "      <th>1</th>\n",
       "      <td>bansharia</td>\n",
       "      <td>0.817536</td>\n",
       "    </tr>\n",
       "    <tr>\n",
       "      <th>2</th>\n",
       "      <td>christianity</td>\n",
       "      <td>0.812463</td>\n",
       "    </tr>\n",
       "    <tr>\n",
       "      <th>3</th>\n",
       "      <td>religionofpeace</td>\n",
       "      <td>0.809293</td>\n",
       "    </tr>\n",
       "    <tr>\n",
       "      <th>4</th>\n",
       "      <td>islamistheproblem</td>\n",
       "      <td>0.805156</td>\n",
       "    </tr>\n",
       "    <tr>\n",
       "      <th>5</th>\n",
       "      <td>radical</td>\n",
       "      <td>0.802823</td>\n",
       "    </tr>\n",
       "    <tr>\n",
       "      <th>6</th>\n",
       "      <td>infidels</td>\n",
       "      <td>0.793603</td>\n",
       "    </tr>\n",
       "    <tr>\n",
       "      <th>7</th>\n",
       "      <td>crusades</td>\n",
       "      <td>0.791683</td>\n",
       "    </tr>\n",
       "    <tr>\n",
       "      <th>8</th>\n",
       "      <td>muslim</td>\n",
       "      <td>0.791138</td>\n",
       "    </tr>\n",
       "    <tr>\n",
       "      <th>9</th>\n",
       "      <td>banislam</td>\n",
       "      <td>0.790276</td>\n",
       "    </tr>\n",
       "  </tbody>\n",
       "</table>\n",
       "</div>"
      ],
      "text/plain": [
       "    Skip Gram - Word  Skip Gram - Similarity\n",
       "0            muslims                0.837124\n",
       "1          bansharia                0.817536\n",
       "2       christianity                0.812463\n",
       "3    religionofpeace                0.809293\n",
       "4  islamistheproblem                0.805156\n",
       "5            radical                0.802823\n",
       "6           infidels                0.793603\n",
       "7           crusades                0.791683\n",
       "8             muslim                0.791138\n",
       "9           banislam                0.790276"
      ]
     },
     "execution_count": 36,
     "metadata": {},
     "output_type": "execute_result"
    }
   ],
   "source": [
    "get_most_similar(models,\"islam\",n_similar=10, model_names=model_names)"
   ]
  },
  {
   "cell_type": "code",
   "execution_count": 37,
   "metadata": {},
   "outputs": [
    {
     "name": "stdout",
     "output_type": "stream",
     "text": [
      "Most similar words per model for word: christian\n"
     ]
    },
    {
     "data": {
      "text/html": [
       "<div>\n",
       "<style scoped>\n",
       "    .dataframe tbody tr th:only-of-type {\n",
       "        vertical-align: middle;\n",
       "    }\n",
       "\n",
       "    .dataframe tbody tr th {\n",
       "        vertical-align: top;\n",
       "    }\n",
       "\n",
       "    .dataframe thead th {\n",
       "        text-align: right;\n",
       "    }\n",
       "</style>\n",
       "<table border=\"1\" class=\"dataframe\">\n",
       "  <thead>\n",
       "    <tr style=\"text-align: right;\">\n",
       "      <th></th>\n",
       "      <th>Skip Gram - Word</th>\n",
       "      <th>Skip Gram - Similarity</th>\n",
       "    </tr>\n",
       "  </thead>\n",
       "  <tbody>\n",
       "    <tr>\n",
       "      <th>0</th>\n",
       "      <td>atheist</td>\n",
       "      <td>0.717415</td>\n",
       "    </tr>\n",
       "    <tr>\n",
       "      <th>1</th>\n",
       "      <td>christians</td>\n",
       "      <td>0.673261</td>\n",
       "    </tr>\n",
       "    <tr>\n",
       "      <th>2</th>\n",
       "      <td>evangelicals</td>\n",
       "      <td>0.664359</td>\n",
       "    </tr>\n",
       "    <tr>\n",
       "      <th>3</th>\n",
       "      <td>catholic</td>\n",
       "      <td>0.655283</td>\n",
       "    </tr>\n",
       "    <tr>\n",
       "      <th>4</th>\n",
       "      <td>christianity</td>\n",
       "      <td>0.647251</td>\n",
       "    </tr>\n",
       "    <tr>\n",
       "      <th>5</th>\n",
       "      <td>muslim</td>\n",
       "      <td>0.626763</td>\n",
       "    </tr>\n",
       "    <tr>\n",
       "      <th>6</th>\n",
       "      <td>homosexuals</td>\n",
       "      <td>0.623521</td>\n",
       "    </tr>\n",
       "    <tr>\n",
       "      <th>7</th>\n",
       "      <td>evangelical</td>\n",
       "      <td>0.623268</td>\n",
       "    </tr>\n",
       "    <tr>\n",
       "      <th>8</th>\n",
       "      <td>radicals</td>\n",
       "      <td>0.621590</td>\n",
       "    </tr>\n",
       "    <tr>\n",
       "      <th>9</th>\n",
       "      <td>atheists</td>\n",
       "      <td>0.620053</td>\n",
       "    </tr>\n",
       "  </tbody>\n",
       "</table>\n",
       "</div>"
      ],
      "text/plain": [
       "  Skip Gram - Word  Skip Gram - Similarity\n",
       "0          atheist                0.717415\n",
       "1       christians                0.673261\n",
       "2     evangelicals                0.664359\n",
       "3         catholic                0.655283\n",
       "4     christianity                0.647251\n",
       "5           muslim                0.626763\n",
       "6      homosexuals                0.623521\n",
       "7      evangelical                0.623268\n",
       "8         radicals                0.621590\n",
       "9         atheists                0.620053"
      ]
     },
     "execution_count": 37,
     "metadata": {},
     "output_type": "execute_result"
    }
   ],
   "source": [
    "get_most_similar(models,\"christian\",n_similar=10, model_names=model_names)"
   ]
  },
  {
   "cell_type": "code",
   "execution_count": 38,
   "metadata": {},
   "outputs": [
    {
     "name": "stdout",
     "output_type": "stream",
     "text": [
      "Most similar words per model for word: cnn\n"
     ]
    },
    {
     "data": {
      "text/html": [
       "<div>\n",
       "<style scoped>\n",
       "    .dataframe tbody tr th:only-of-type {\n",
       "        vertical-align: middle;\n",
       "    }\n",
       "\n",
       "    .dataframe tbody tr th {\n",
       "        vertical-align: top;\n",
       "    }\n",
       "\n",
       "    .dataframe thead th {\n",
       "        text-align: right;\n",
       "    }\n",
       "</style>\n",
       "<table border=\"1\" class=\"dataframe\">\n",
       "  <thead>\n",
       "    <tr style=\"text-align: right;\">\n",
       "      <th></th>\n",
       "      <th>Skip Gram - Word</th>\n",
       "      <th>Skip Gram - Similarity</th>\n",
       "    </tr>\n",
       "  </thead>\n",
       "  <tbody>\n",
       "    <tr>\n",
       "      <th>0</th>\n",
       "      <td>msnbc</td>\n",
       "      <td>0.857173</td>\n",
       "    </tr>\n",
       "    <tr>\n",
       "      <th>1</th>\n",
       "      <td>fakenews</td>\n",
       "      <td>0.786226</td>\n",
       "    </tr>\n",
       "    <tr>\n",
       "      <th>2</th>\n",
       "      <td>nytimes</td>\n",
       "      <td>0.783881</td>\n",
       "    </tr>\n",
       "    <tr>\n",
       "      <th>3</th>\n",
       "      <td>tapper</td>\n",
       "      <td>0.767049</td>\n",
       "    </tr>\n",
       "    <tr>\n",
       "      <th>4</th>\n",
       "      <td>abc</td>\n",
       "      <td>0.758147</td>\n",
       "    </tr>\n",
       "    <tr>\n",
       "      <th>5</th>\n",
       "      <td>wapo</td>\n",
       "      <td>0.750898</td>\n",
       "    </tr>\n",
       "    <tr>\n",
       "      <th>6</th>\n",
       "      <td>msm</td>\n",
       "      <td>0.742036</td>\n",
       "    </tr>\n",
       "    <tr>\n",
       "      <th>7</th>\n",
       "      <td>cnnblackmail</td>\n",
       "      <td>0.729306</td>\n",
       "    </tr>\n",
       "    <tr>\n",
       "      <th>8</th>\n",
       "      <td>cnnsotu</td>\n",
       "      <td>0.728701</td>\n",
       "    </tr>\n",
       "    <tr>\n",
       "      <th>9</th>\n",
       "      <td>repoer</td>\n",
       "      <td>0.726534</td>\n",
       "    </tr>\n",
       "  </tbody>\n",
       "</table>\n",
       "</div>"
      ],
      "text/plain": [
       "  Skip Gram - Word  Skip Gram - Similarity\n",
       "0            msnbc                0.857173\n",
       "1         fakenews                0.786226\n",
       "2          nytimes                0.783881\n",
       "3           tapper                0.767049\n",
       "4              abc                0.758147\n",
       "5             wapo                0.750898\n",
       "6              msm                0.742036\n",
       "7     cnnblackmail                0.729306\n",
       "8          cnnsotu                0.728701\n",
       "9           repoer                0.726534"
      ]
     },
     "execution_count": 38,
     "metadata": {},
     "output_type": "execute_result"
    }
   ],
   "source": [
    "get_most_similar(models,\"cnn\",n_similar=10, model_names=model_names)"
   ]
  },
  {
   "cell_type": "code",
   "execution_count": 30,
   "metadata": {},
   "outputs": [
    {
     "name": "stdout",
     "output_type": "stream",
     "text": [
      "Most similar words per model for word: fox\n"
     ]
    },
    {
     "data": {
      "text/html": [
       "<div>\n",
       "<style scoped>\n",
       "    .dataframe tbody tr th:only-of-type {\n",
       "        vertical-align: middle;\n",
       "    }\n",
       "\n",
       "    .dataframe tbody tr th {\n",
       "        vertical-align: top;\n",
       "    }\n",
       "\n",
       "    .dataframe thead th {\n",
       "        text-align: right;\n",
       "    }\n",
       "</style>\n",
       "<table border=\"1\" class=\"dataframe\">\n",
       "  <thead>\n",
       "    <tr style=\"text-align: right;\">\n",
       "      <th></th>\n",
       "      <th>Skip Gram Window 5 - Word</th>\n",
       "      <th>Skip Gram Window 5 - Similarity</th>\n",
       "    </tr>\n",
       "  </thead>\n",
       "  <tbody>\n",
       "    <tr>\n",
       "      <th>0</th>\n",
       "      <td>nbc</td>\n",
       "      <td>0.589153</td>\n",
       "    </tr>\n",
       "    <tr>\n",
       "      <th>1</th>\n",
       "      <td>latest</td>\n",
       "      <td>0.588807</td>\n",
       "    </tr>\n",
       "    <tr>\n",
       "      <th>2</th>\n",
       "      <td>channel</td>\n",
       "      <td>0.583562</td>\n",
       "    </tr>\n",
       "    <tr>\n",
       "      <th>3</th>\n",
       "      <td>blasts</td>\n",
       "      <td>0.575391</td>\n",
       "    </tr>\n",
       "    <tr>\n",
       "      <th>4</th>\n",
       "      <td>timeline</td>\n",
       "      <td>0.570156</td>\n",
       "    </tr>\n",
       "    <tr>\n",
       "      <th>5</th>\n",
       "      <td>donald</td>\n",
       "      <td>0.567936</td>\n",
       "    </tr>\n",
       "    <tr>\n",
       "      <th>6</th>\n",
       "      <td>exclusive</td>\n",
       "      <td>0.566918</td>\n",
       "    </tr>\n",
       "    <tr>\n",
       "      <th>7</th>\n",
       "      <td>cnn</td>\n",
       "      <td>0.561388</td>\n",
       "    </tr>\n",
       "    <tr>\n",
       "      <th>8</th>\n",
       "      <td>msnbc</td>\n",
       "      <td>0.559085</td>\n",
       "    </tr>\n",
       "    <tr>\n",
       "      <th>9</th>\n",
       "      <td>debate</td>\n",
       "      <td>0.557972</td>\n",
       "    </tr>\n",
       "  </tbody>\n",
       "</table>\n",
       "</div>"
      ],
      "text/plain": [
       "  Skip Gram Window 5 - Word  Skip Gram Window 5 - Similarity\n",
       "0                       nbc                         0.589153\n",
       "1                    latest                         0.588807\n",
       "2                   channel                         0.583562\n",
       "3                    blasts                         0.575391\n",
       "4                  timeline                         0.570156\n",
       "5                    donald                         0.567936\n",
       "6                 exclusive                         0.566918\n",
       "7                       cnn                         0.561388\n",
       "8                     msnbc                         0.559085\n",
       "9                    debate                         0.557972"
      ]
     },
     "execution_count": 30,
     "metadata": {},
     "output_type": "execute_result"
    }
   ],
   "source": [
    "get_most_similar(models,\"fox\",n_similar=10, model_names=model_names)"
   ]
  },
  {
   "cell_type": "code",
   "execution_count": 31,
   "metadata": {},
   "outputs": [
    {
     "name": "stdout",
     "output_type": "stream",
     "text": [
      "Most similar words per model for word: rigged\n"
     ]
    },
    {
     "data": {
      "text/html": [
       "<div>\n",
       "<style scoped>\n",
       "    .dataframe tbody tr th:only-of-type {\n",
       "        vertical-align: middle;\n",
       "    }\n",
       "\n",
       "    .dataframe tbody tr th {\n",
       "        vertical-align: top;\n",
       "    }\n",
       "\n",
       "    .dataframe thead th {\n",
       "        text-align: right;\n",
       "    }\n",
       "</style>\n",
       "<table border=\"1\" class=\"dataframe\">\n",
       "  <thead>\n",
       "    <tr style=\"text-align: right;\">\n",
       "      <th></th>\n",
       "      <th>Skip Gram Window 5 - Word</th>\n",
       "      <th>Skip Gram Window 5 - Similarity</th>\n",
       "    </tr>\n",
       "  </thead>\n",
       "  <tbody>\n",
       "    <tr>\n",
       "      <th>0</th>\n",
       "      <td>election</td>\n",
       "      <td>0.703757</td>\n",
       "    </tr>\n",
       "    <tr>\n",
       "      <th>1</th>\n",
       "      <td>election2016</td>\n",
       "      <td>0.667060</td>\n",
       "    </tr>\n",
       "    <tr>\n",
       "      <th>2</th>\n",
       "      <td>2008</td>\n",
       "      <td>0.648220</td>\n",
       "    </tr>\n",
       "    <tr>\n",
       "      <th>3</th>\n",
       "      <td>elections</td>\n",
       "      <td>0.645120</td>\n",
       "    </tr>\n",
       "    <tr>\n",
       "      <th>4</th>\n",
       "      <td>crookedhillary</td>\n",
       "      <td>0.634095</td>\n",
       "    </tr>\n",
       "    <tr>\n",
       "      <th>5</th>\n",
       "      <td>dnc</td>\n",
       "      <td>0.630256</td>\n",
       "    </tr>\n",
       "    <tr>\n",
       "      <th>6</th>\n",
       "      <td>voting</td>\n",
       "      <td>0.615970</td>\n",
       "    </tr>\n",
       "    <tr>\n",
       "      <th>7</th>\n",
       "      <td>polls</td>\n",
       "      <td>0.602949</td>\n",
       "    </tr>\n",
       "    <tr>\n",
       "      <th>8</th>\n",
       "      <td>hillaryclinton</td>\n",
       "      <td>0.596248</td>\n",
       "    </tr>\n",
       "    <tr>\n",
       "      <th>9</th>\n",
       "      <td>primary</td>\n",
       "      <td>0.590883</td>\n",
       "    </tr>\n",
       "  </tbody>\n",
       "</table>\n",
       "</div>"
      ],
      "text/plain": [
       "  Skip Gram Window 5 - Word  Skip Gram Window 5 - Similarity\n",
       "0                  election                         0.703757\n",
       "1              election2016                         0.667060\n",
       "2                      2008                         0.648220\n",
       "3                 elections                         0.645120\n",
       "4            crookedhillary                         0.634095\n",
       "5                       dnc                         0.630256\n",
       "6                    voting                         0.615970\n",
       "7                     polls                         0.602949\n",
       "8            hillaryclinton                         0.596248\n",
       "9                   primary                         0.590883"
      ]
     },
     "execution_count": 31,
     "metadata": {},
     "output_type": "execute_result"
    }
   ],
   "source": [
    "get_most_similar(models,\"rigged\",n_similar=10, model_names=model_names)"
   ]
  },
  {
   "cell_type": "code",
   "execution_count": 32,
   "metadata": {},
   "outputs": [
    {
     "name": "stdout",
     "output_type": "stream",
     "text": [
      "Most similar words per model for word: news\n"
     ]
    },
    {
     "data": {
      "text/html": [
       "<div>\n",
       "<style scoped>\n",
       "    .dataframe tbody tr th:only-of-type {\n",
       "        vertical-align: middle;\n",
       "    }\n",
       "\n",
       "    .dataframe tbody tr th {\n",
       "        vertical-align: top;\n",
       "    }\n",
       "\n",
       "    .dataframe thead th {\n",
       "        text-align: right;\n",
       "    }\n",
       "</style>\n",
       "<table border=\"1\" class=\"dataframe\">\n",
       "  <thead>\n",
       "    <tr style=\"text-align: right;\">\n",
       "      <th></th>\n",
       "      <th>Skip Gram Window 5 - Word</th>\n",
       "      <th>Skip Gram Window 5 - Similarity</th>\n",
       "    </tr>\n",
       "  </thead>\n",
       "  <tbody>\n",
       "    <tr>\n",
       "      <th>0</th>\n",
       "      <td>mississippi</td>\n",
       "      <td>0.682712</td>\n",
       "    </tr>\n",
       "    <tr>\n",
       "      <th>1</th>\n",
       "      <td>repos</td>\n",
       "      <td>0.664712</td>\n",
       "    </tr>\n",
       "    <tr>\n",
       "      <th>2</th>\n",
       "      <td>latest</td>\n",
       "      <td>0.621217</td>\n",
       "    </tr>\n",
       "    <tr>\n",
       "      <th>3</th>\n",
       "      <td>lawsuit</td>\n",
       "      <td>0.619892</td>\n",
       "    </tr>\n",
       "    <tr>\n",
       "      <th>4</th>\n",
       "      <td>nbc</td>\n",
       "      <td>0.604391</td>\n",
       "    </tr>\n",
       "    <tr>\n",
       "      <th>5</th>\n",
       "      <td>declares</td>\n",
       "      <td>0.585359</td>\n",
       "    </tr>\n",
       "    <tr>\n",
       "      <th>6</th>\n",
       "      <td>repoed</td>\n",
       "      <td>0.571642</td>\n",
       "    </tr>\n",
       "    <tr>\n",
       "      <th>7</th>\n",
       "      <td>resigns</td>\n",
       "      <td>0.571096</td>\n",
       "    </tr>\n",
       "    <tr>\n",
       "      <th>8</th>\n",
       "      <td>conference</td>\n",
       "      <td>0.563831</td>\n",
       "    </tr>\n",
       "    <tr>\n",
       "      <th>9</th>\n",
       "      <td>state</td>\n",
       "      <td>0.556341</td>\n",
       "    </tr>\n",
       "  </tbody>\n",
       "</table>\n",
       "</div>"
      ],
      "text/plain": [
       "  Skip Gram Window 5 - Word  Skip Gram Window 5 - Similarity\n",
       "0               mississippi                         0.682712\n",
       "1                     repos                         0.664712\n",
       "2                    latest                         0.621217\n",
       "3                   lawsuit                         0.619892\n",
       "4                       nbc                         0.604391\n",
       "5                  declares                         0.585359\n",
       "6                    repoed                         0.571642\n",
       "7                   resigns                         0.571096\n",
       "8                conference                         0.563831\n",
       "9                     state                         0.556341"
      ]
     },
     "execution_count": 32,
     "metadata": {},
     "output_type": "execute_result"
    }
   ],
   "source": [
    "get_most_similar(models,\"news\",n_similar=10, model_names=model_names)"
   ]
  },
  {
   "cell_type": "code",
   "execution_count": 33,
   "metadata": {},
   "outputs": [
    {
     "name": "stdout",
     "output_type": "stream",
     "text": [
      "Most similar words per model for word: fakenews\n"
     ]
    },
    {
     "data": {
      "text/html": [
       "<div>\n",
       "<style scoped>\n",
       "    .dataframe tbody tr th:only-of-type {\n",
       "        vertical-align: middle;\n",
       "    }\n",
       "\n",
       "    .dataframe tbody tr th {\n",
       "        vertical-align: top;\n",
       "    }\n",
       "\n",
       "    .dataframe thead th {\n",
       "        text-align: right;\n",
       "    }\n",
       "</style>\n",
       "<table border=\"1\" class=\"dataframe\">\n",
       "  <thead>\n",
       "    <tr style=\"text-align: right;\">\n",
       "      <th></th>\n",
       "      <th>Skip Gram Window 5 - Word</th>\n",
       "      <th>Skip Gram Window 5 - Similarity</th>\n",
       "    </tr>\n",
       "  </thead>\n",
       "  <tbody>\n",
       "    <tr>\n",
       "      <th>0</th>\n",
       "      <td>msm</td>\n",
       "      <td>0.691991</td>\n",
       "    </tr>\n",
       "    <tr>\n",
       "      <th>1</th>\n",
       "      <td>media</td>\n",
       "      <td>0.655237</td>\n",
       "    </tr>\n",
       "    <tr>\n",
       "      <th>2</th>\n",
       "      <td>cnn</td>\n",
       "      <td>0.653830</td>\n",
       "    </tr>\n",
       "    <tr>\n",
       "      <th>3</th>\n",
       "      <td>crookedhillary</td>\n",
       "      <td>0.647150</td>\n",
       "    </tr>\n",
       "    <tr>\n",
       "      <th>4</th>\n",
       "      <td>frustrating</td>\n",
       "      <td>0.633908</td>\n",
       "    </tr>\n",
       "    <tr>\n",
       "      <th>5</th>\n",
       "      <td>collusion</td>\n",
       "      <td>0.633589</td>\n",
       "    </tr>\n",
       "    <tr>\n",
       "      <th>6</th>\n",
       "      <td>propaganda</td>\n",
       "      <td>0.633090</td>\n",
       "    </tr>\n",
       "    <tr>\n",
       "      <th>7</th>\n",
       "      <td>wikileaks</td>\n",
       "      <td>0.632001</td>\n",
       "    </tr>\n",
       "    <tr>\n",
       "      <th>8</th>\n",
       "      <td>liberal</td>\n",
       "      <td>0.623575</td>\n",
       "    </tr>\n",
       "    <tr>\n",
       "      <th>9</th>\n",
       "      <td>russia</td>\n",
       "      <td>0.606558</td>\n",
       "    </tr>\n",
       "  </tbody>\n",
       "</table>\n",
       "</div>"
      ],
      "text/plain": [
       "  Skip Gram Window 5 - Word  Skip Gram Window 5 - Similarity\n",
       "0                       msm                         0.691991\n",
       "1                     media                         0.655237\n",
       "2                       cnn                         0.653830\n",
       "3            crookedhillary                         0.647150\n",
       "4               frustrating                         0.633908\n",
       "5                 collusion                         0.633589\n",
       "6                propaganda                         0.633090\n",
       "7                 wikileaks                         0.632001\n",
       "8                   liberal                         0.623575\n",
       "9                    russia                         0.606558"
      ]
     },
     "execution_count": 33,
     "metadata": {},
     "output_type": "execute_result"
    }
   ],
   "source": [
    "get_most_similar(models,\"fakenews\",n_similar=10, model_names=model_names)"
   ]
  },
  {
   "cell_type": "markdown",
   "metadata": {},
   "source": [
    "### Visualizing similar words in a low-dimensional subspace using PCA and TSNE\n",
    "\n",
    "What is TSNE?\n",
    "- T-distributed Stochastic Neighbor Embedding\n",
    "- Nonlinear dimensionality reduction technique\n",
    "- First t-sne constructs a probability distribution over pairs of high-dimensional objects in such a way that similar objects have a high probability of being picked\n",
    "- dissimilar points have a small probability of being picked\n",
    "- Second: t-sne defines another probability distribution over the points in a low-dimensional map\n",
    "- The minimizes KL-Divergence between the two distributions with respect to the locations of the points in the map \n",
    "\n",
    "What do these plots show?\n",
    "- In a lower dimensional subspace, which words are most similar to each other\n",
    "- Closeness in this case is related to words being interchangebable in a context\n",
    "- So if we see Trump and Donald together we know that these two words often appear in the same context\n",
    "- That is why we don't see a clear separation between words like good and bad, which often appear in the same context but we see a separation between Trump and Clinton\n",
    "- We always plot the two words of interest and the 10 most similar words."
   ]
  },
  {
   "cell_type": "code",
   "execution_count": 8,
   "metadata": {},
   "outputs": [],
   "source": [
    "from utils.comparison import plot_word_embeddings"
   ]
  },
  {
   "cell_type": "code",
   "execution_count": 9,
   "metadata": {},
   "outputs": [
    {
     "name": "stdout",
     "output_type": "stream",
     "text": [
      "starting PCA\n",
      "Done with PCA\n"
     ]
    },
    {
     "data": {
      "image/png": "[encoded data removed]",
      "text/plain": [
       "<Figure size 864x576 with 1 Axes>"
      ]
     },
     "metadata": {
      "needs_background": "light"
     },
     "output_type": "display_data"
    }
   ],
   "source": [
    "plot_word_embeddings(\"clinton\", \"trump\", n_comparison =10, w2v_model =  w2v_model)\n",
    "plt.savefig(\"../img/embedding_clinton_trump\")"
   ]
  },
  {
   "cell_type": "code",
   "execution_count": 10,
   "metadata": {},
   "outputs": [
    {
     "name": "stdout",
     "output_type": "stream",
     "text": [
      "starting PCA\n",
      "Done with PCA\n"
     ]
    },
    {
     "data": {
      "image/png": "[encoded data removed]",
      "text/plain": [
       "<Figure size 864x576 with 1 Axes>"
      ]
     },
     "metadata": {
      "needs_background": "light"
     },
     "output_type": "display_data"
    }
   ],
   "source": [
    "plot_word_embeddings(\"dnc\", \"rnc\", n_comparison =10, w2v_model =  w2v_model)\n",
    "plt.savefig(\"../img/embedding_dnc_rnc\")"
   ]
  },
  {
   "cell_type": "code",
   "execution_count": 27,
   "metadata": {},
   "outputs": [
    {
     "name": "stdout",
     "output_type": "stream",
     "text": [
      "starting PCA\n",
      "Done with PCA\n"
     ]
    },
    {
     "data": {
      "image/png": "[encoded data removed]",
      "text/plain": [
       "<Figure size 864x576 with 1 Axes>"
      ]
     },
     "metadata": {
      "needs_background": "light"
     },
     "output_type": "display_data"
    }
   ],
   "source": [
    "plot_word_embeddings(\"democrat\", \"republican\", n_comparison =10, w2v_model =  w2v_model)"
   ]
  },
  {
   "cell_type": "code",
   "execution_count": 11,
   "metadata": {},
   "outputs": [
    {
     "name": "stdout",
     "output_type": "stream",
     "text": [
      "starting PCA\n",
      "Done with PCA\n"
     ]
    },
    {
     "data": {
      "image/png": "[encoded data removed]",
      "text/plain": [
       "<Figure size 864x576 with 1 Axes>"
      ]
     },
     "metadata": {
      "needs_background": "light"
     },
     "output_type": "display_data"
    }
   ],
   "source": [
    "plot_word_embeddings(\"liberals\", \"conservatives\", n_comparison =10, w2v_model =  w2v_model)\n",
    "plt.savefig(\"../img/embedding_liberals_conservatives\")"
   ]
  },
  {
   "cell_type": "code",
   "execution_count": 12,
   "metadata": {},
   "outputs": [
    {
     "name": "stdout",
     "output_type": "stream",
     "text": [
      "starting PCA\n",
      "Done with PCA\n"
     ]
    },
    {
     "data": {
      "image/png": "[encoded data removed]",
      "text/plain": [
       "<Figure size 864x576 with 1 Axes>"
      ]
     },
     "metadata": {
      "needs_background": "light"
     },
     "output_type": "display_data"
    }
   ],
   "source": [
    "plot_word_embeddings(\"fake\", \"true\", n_comparison =10, w2v_model =  w2v_model)\n",
    "plt.savefig(\"../img/embedding_fake_true\")"
   ]
  },
  {
   "cell_type": "code",
   "execution_count": 13,
   "metadata": {},
   "outputs": [
    {
     "name": "stdout",
     "output_type": "stream",
     "text": [
      "starting PCA\n",
      "Done with PCA\n"
     ]
    },
    {
     "data": {
      "image/png": "[encoded data removed]",
      "text/plain": [
       "<Figure size 864x576 with 1 Axes>"
      ]
     },
     "metadata": {
      "needs_background": "light"
     },
     "output_type": "display_data"
    }
   ],
   "source": [
    "plot_word_embeddings(\"blacklivesmatter\", \"bluelivesmatter\", n_comparison =10, w2v_model =  w2v_model)\n",
    "plt.savefig(\"../img/embedding_blm\")"
   ]
  },
  {
   "cell_type": "code",
   "execution_count": 43,
   "metadata": {},
   "outputs": [
    {
     "name": "stdout",
     "output_type": "stream",
     "text": [
      "starting PCA\n",
      "Done with PCA\n"
     ]
    },
    {
     "data": {
      "image/png": "[encoded data removed]",
      "text/plain": [
       "<Figure size 864x576 with 1 Axes>"
      ]
     },
     "metadata": {
      "needs_background": "light"
     },
     "output_type": "display_data"
    }
   ],
   "source": [
    "plot_word_embeddings(\"immigrant\", \"dreamers\", n_comparison =10, w2v_model =  w2v_model)"
   ]
  },
  {
   "cell_type": "code",
   "execution_count": 46,
   "metadata": {},
   "outputs": [
    {
     "name": "stdout",
     "output_type": "stream",
     "text": [
      "starting PCA\n",
      "Done with PCA\n"
     ]
    },
    {
     "data": {
      "image/png": "[encoded data removed]",
      "text/plain": [
       "<Figure size 864x576 with 1 Axes>"
      ]
     },
     "metadata": {
      "needs_background": "light"
     },
     "output_type": "display_data"
    }
   ],
   "source": [
    "plot_word_embeddings(\"taxes\", \"government\", n_comparison =10, w2v_model =  w2v_model)"
   ]
  },
  {
   "cell_type": "code",
   "execution_count": 47,
   "metadata": {},
   "outputs": [
    {
     "name": "stdout",
     "output_type": "stream",
     "text": [
      "starting PCA\n",
      "Done with PCA\n"
     ]
    },
    {
     "data": {
      "image/png": "[encoded data removed]",
      "text/plain": [
       "<Figure size 864x576 with 1 Axes>"
      ]
     },
     "metadata": {
      "needs_background": "light"
     },
     "output_type": "display_data"
    }
   ],
   "source": [
    "plot_word_embeddings(\"establishment\", \"government\", n_comparison =10, w2v_model =  w2v_model)"
   ]
  },
  {
   "cell_type": "code",
   "execution_count": 15,
   "metadata": {},
   "outputs": [
    {
     "name": "stdout",
     "output_type": "stream",
     "text": [
      "starting PCA\n",
      "Done with PCA\n"
     ]
    },
    {
     "data": {
      "image/png": "[encoded data removed]",
      "text/plain": [
       "<Figure size 864x576 with 1 Axes>"
      ]
     },
     "metadata": {
      "needs_background": "light"
     },
     "output_type": "display_data"
    }
   ],
   "source": [
    "plot_word_embeddings(\"black\", \"white\", n_comparison =10, w2v_model =  w2v_model)\n",
    "plt.savefig(\"../img/embedding_black_white\")"
   ]
  },
  {
   "cell_type": "markdown",
   "metadata": {},
   "source": [
    "These visualizationsare awesome! We can clearly see how these tweets tried to generate negative connotations for certain words.\n"
   ]
  }
 ],
 "metadata": {
  "kernelspec": {
   "display_name": "Python 3",
   "language": "python",
   "name": "python3"
  },
  "language_info": {
   "codemirror_mode": {
    "name": "ipython",
    "version": 3
   },
   "file_extension": ".py",
   "mimetype": "text/x-python",
   "name": "python",
   "nbconvert_exporter": "python",
   "pygments_lexer": "ipython3",
   "version": "3.6.8"
  },
  "varInspector": {
   "cols": {
    "lenName": 16,
    "lenType": 16,
    "lenVar": 40
   },
   "kernels_config": {
    "python": {
     "delete_cmd_postfix": "",
     "delete_cmd_prefix": "del ",
     "library": "var_list.py",
     "varRefreshCmd": "print(var_dic_list())"
    },
    "r": {
     "delete_cmd_postfix": ") ",
     "delete_cmd_prefix": "rm(",
     "library": "var_list.r",
     "varRefreshCmd": "cat(var_dic_list()) "
    }
   },
   "position": {
    "height": "458.85px",
    "left": "1538px",
    "right": "20px",
    "top": "120px",
    "width": "362px"
   },
   "types_to_exclude": [
    "module",
    "function",
    "builtin_function_or_method",
    "instance",
    "_Feature"
   ],
   "window_display": false
  }
 },
 "nbformat": 4,
 "nbformat_minor": 2
}
