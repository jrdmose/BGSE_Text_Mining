{
 "cells": [
  {
   "cell_type": "code",
   "execution_count": 1,
   "metadata": {},
   "outputs": [],
   "source": [
    "# Libraries\n",
    "import pandas as pd\n",
    "import numpy as np\n",
    "import matplotlib.pyplot as plt\n",
    "import seaborn as sns\n",
    "import pickle\n",
    "import gc\n",
    "\n",
    "# Clustering algos to test\n",
    "from sklearn.cluster import DBSCAN, MiniBatchKMeans\n",
    "\n",
    "# NLP Stuff\n",
    "from nltk.tokenize import RegexpTokenizer\n",
    "from nltk.corpus import stopwords\n",
    "\n",
    "# WordClouds\n",
    "from utils.wordcloud import plot_wordcloud\n"
   ]
  },
  {
   "cell_type": "code",
   "execution_count": 2,
   "metadata": {},
   "outputs": [],
   "source": [
    "# Load data\n",
    "data = pd.read_pickle(\"../data/tweets_final.pickle\")    \n",
    "hashtags = pd.read_pickle(\"../data/hashtags.pickle\")"
   ]
  },
  {
   "cell_type": "code",
   "execution_count": 3,
   "metadata": {},
   "outputs": [],
   "source": [
    "# Index of tweets talking about black lives matter\n",
    "blm_idx = hashtags[hashtags[0] == \"BlackLivesMatter\"].index.get_level_values(0)"
   ]
  },
  {
   "cell_type": "code",
   "execution_count": 4,
   "metadata": {},
   "outputs": [],
   "source": [
    "data = data.loc[blm_idx,:]"
   ]
  },
  {
   "cell_type": "code",
   "execution_count": 5,
   "metadata": {},
   "outputs": [
    {
     "data": {
      "text/plain": [
       "(10575, 108)"
      ]
     },
     "execution_count": 5,
     "metadata": {},
     "output_type": "execute_result"
    }
   ],
   "source": [
    "data.shape"
   ]
  },
  {
   "cell_type": "code",
   "execution_count": 8,
   "metadata": {},
   "outputs": [
    {
     "data": {
      "text/plain": [
       "[<matplotlib.lines.Line2D at 0x7fc6bb9ef198>]"
      ]
     },
     "execution_count": 8,
     "metadata": {},
     "output_type": "execute_result"
    },
    {
     "data": {
      "image/png": "[encoded data removed]",
      "text/plain": [
       "<Figure size 432x288 with 1 Axes>"
      ]
     },
     "metadata": {
      "needs_background": "light"
     },
     "output_type": "display_data"
    }
   ],
   "source": [
    "X = data.loc[:,data.columns[-100:]]\n",
    "\n",
    "# Finding optimal eps based on k-distance graph\n",
    "from sklearn.neighbors import NearestNeighbors\n",
    "\n",
    "# Let's take a random subsample\n",
    "\n",
    "x = X.sample(n =5000).values\n",
    "\n",
    "ns = 3\n",
    "nbrs = NearestNeighbors(n_neighbors=ns).fit(x)\n",
    "distances, indices = nbrs.kneighbors(x)\n",
    "distanceDec = sorted(distances[:,ns-1], reverse=True)\n",
    "\n",
    "plt.plot(list(range(1,len(distanceDec)+1)), distanceDec)"
   ]
  },
  {
   "cell_type": "code",
   "execution_count": 35,
   "metadata": {},
   "outputs": [
    {
     "data": {
      "text/plain": [
       "DBSCAN(algorithm='auto', eps=0.6, leaf_size=30, metric='euclidean',\n",
       "    metric_params=None, min_samples=15, n_jobs=4, p=None)"
      ]
     },
     "execution_count": 35,
     "metadata": {},
     "output_type": "execute_result"
    }
   ],
   "source": [
    "# Set up the DBSCAN algorithm\n",
    "dbscan = DBSCAN(eps =0.6,min_samples= 15,metric =\"euclidean\",n_jobs=4)\n",
    "\n",
    "# Fit on our data\n",
    "dbscan.fit(X)"
   ]
  },
  {
   "cell_type": "code",
   "execution_count": 36,
   "metadata": {},
   "outputs": [],
   "source": [
    "data[\"label\"] = dbscan.labels_"
   ]
  },
  {
   "cell_type": "code",
   "execution_count": 37,
   "metadata": {},
   "outputs": [
    {
     "data": {
      "text/html": [
       "<div>\n",
       "<style scoped>\n",
       "    .dataframe tbody tr th:only-of-type {\n",
       "        vertical-align: middle;\n",
       "    }\n",
       "\n",
       "    .dataframe tbody tr th {\n",
       "        vertical-align: top;\n",
       "    }\n",
       "\n",
       "    .dataframe thead th {\n",
       "        text-align: right;\n",
       "    }\n",
       "</style>\n",
       "<table border=\"1\" class=\"dataframe\">\n",
       "  <thead>\n",
       "    <tr style=\"text-align: right;\">\n",
       "      <th></th>\n",
       "      <th>userid</th>\n",
       "      <th>user_screen_name</th>\n",
       "      <th>user_display_name</th>\n",
       "      <th>follower_count</th>\n",
       "      <th>tweet_text</th>\n",
       "      <th>is_retweet</th>\n",
       "      <th>retweet_count</th>\n",
       "      <th>hashtags</th>\n",
       "      <th>0_dim</th>\n",
       "      <th>1_dim</th>\n",
       "      <th>...</th>\n",
       "      <th>90_dim</th>\n",
       "      <th>91_dim</th>\n",
       "      <th>92_dim</th>\n",
       "      <th>93_dim</th>\n",
       "      <th>94_dim</th>\n",
       "      <th>95_dim</th>\n",
       "      <th>96_dim</th>\n",
       "      <th>97_dim</th>\n",
       "      <th>98_dim</th>\n",
       "      <th>99_dim</th>\n",
       "    </tr>\n",
       "    <tr>\n",
       "      <th>label</th>\n",
       "      <th></th>\n",
       "      <th></th>\n",
       "      <th></th>\n",
       "      <th></th>\n",
       "      <th></th>\n",
       "      <th></th>\n",
       "      <th></th>\n",
       "      <th></th>\n",
       "      <th></th>\n",
       "      <th></th>\n",
       "      <th></th>\n",
       "      <th></th>\n",
       "      <th></th>\n",
       "      <th></th>\n",
       "      <th></th>\n",
       "      <th></th>\n",
       "      <th></th>\n",
       "      <th></th>\n",
       "      <th></th>\n",
       "      <th></th>\n",
       "      <th></th>\n",
       "    </tr>\n",
       "  </thead>\n",
       "  <tbody>\n",
       "    <tr>\n",
       "      <th>-1</th>\n",
       "      <td>217</td>\n",
       "      <td>217</td>\n",
       "      <td>217</td>\n",
       "      <td>217</td>\n",
       "      <td>217</td>\n",
       "      <td>217</td>\n",
       "      <td>217</td>\n",
       "      <td>217</td>\n",
       "      <td>217</td>\n",
       "      <td>217</td>\n",
       "      <td>...</td>\n",
       "      <td>217</td>\n",
       "      <td>217</td>\n",
       "      <td>217</td>\n",
       "      <td>217</td>\n",
       "      <td>217</td>\n",
       "      <td>217</td>\n",
       "      <td>217</td>\n",
       "      <td>217</td>\n",
       "      <td>217</td>\n",
       "      <td>217</td>\n",
       "    </tr>\n",
       "    <tr>\n",
       "      <th>0</th>\n",
       "      <td>10204</td>\n",
       "      <td>10204</td>\n",
       "      <td>10204</td>\n",
       "      <td>10204</td>\n",
       "      <td>10204</td>\n",
       "      <td>10204</td>\n",
       "      <td>10204</td>\n",
       "      <td>10204</td>\n",
       "      <td>10204</td>\n",
       "      <td>10204</td>\n",
       "      <td>...</td>\n",
       "      <td>10204</td>\n",
       "      <td>10204</td>\n",
       "      <td>10204</td>\n",
       "      <td>10204</td>\n",
       "      <td>10204</td>\n",
       "      <td>10204</td>\n",
       "      <td>10204</td>\n",
       "      <td>10204</td>\n",
       "      <td>10204</td>\n",
       "      <td>10204</td>\n",
       "    </tr>\n",
       "    <tr>\n",
       "      <th>1</th>\n",
       "      <td>33</td>\n",
       "      <td>33</td>\n",
       "      <td>33</td>\n",
       "      <td>33</td>\n",
       "      <td>33</td>\n",
       "      <td>33</td>\n",
       "      <td>33</td>\n",
       "      <td>33</td>\n",
       "      <td>33</td>\n",
       "      <td>33</td>\n",
       "      <td>...</td>\n",
       "      <td>33</td>\n",
       "      <td>33</td>\n",
       "      <td>33</td>\n",
       "      <td>33</td>\n",
       "      <td>33</td>\n",
       "      <td>33</td>\n",
       "      <td>33</td>\n",
       "      <td>33</td>\n",
       "      <td>33</td>\n",
       "      <td>33</td>\n",
       "    </tr>\n",
       "    <tr>\n",
       "      <th>2</th>\n",
       "      <td>16</td>\n",
       "      <td>16</td>\n",
       "      <td>16</td>\n",
       "      <td>16</td>\n",
       "      <td>16</td>\n",
       "      <td>16</td>\n",
       "      <td>16</td>\n",
       "      <td>16</td>\n",
       "      <td>16</td>\n",
       "      <td>16</td>\n",
       "      <td>...</td>\n",
       "      <td>16</td>\n",
       "      <td>16</td>\n",
       "      <td>16</td>\n",
       "      <td>16</td>\n",
       "      <td>16</td>\n",
       "      <td>16</td>\n",
       "      <td>16</td>\n",
       "      <td>16</td>\n",
       "      <td>16</td>\n",
       "      <td>16</td>\n",
       "    </tr>\n",
       "    <tr>\n",
       "      <th>3</th>\n",
       "      <td>17</td>\n",
       "      <td>17</td>\n",
       "      <td>17</td>\n",
       "      <td>17</td>\n",
       "      <td>17</td>\n",
       "      <td>17</td>\n",
       "      <td>17</td>\n",
       "      <td>17</td>\n",
       "      <td>17</td>\n",
       "      <td>17</td>\n",
       "      <td>...</td>\n",
       "      <td>17</td>\n",
       "      <td>17</td>\n",
       "      <td>17</td>\n",
       "      <td>17</td>\n",
       "      <td>17</td>\n",
       "      <td>17</td>\n",
       "      <td>17</td>\n",
       "      <td>17</td>\n",
       "      <td>17</td>\n",
       "      <td>17</td>\n",
       "    </tr>\n",
       "    <tr>\n",
       "      <th>4</th>\n",
       "      <td>23</td>\n",
       "      <td>23</td>\n",
       "      <td>23</td>\n",
       "      <td>23</td>\n",
       "      <td>23</td>\n",
       "      <td>23</td>\n",
       "      <td>23</td>\n",
       "      <td>23</td>\n",
       "      <td>23</td>\n",
       "      <td>23</td>\n",
       "      <td>...</td>\n",
       "      <td>23</td>\n",
       "      <td>23</td>\n",
       "      <td>23</td>\n",
       "      <td>23</td>\n",
       "      <td>23</td>\n",
       "      <td>23</td>\n",
       "      <td>23</td>\n",
       "      <td>23</td>\n",
       "      <td>23</td>\n",
       "      <td>23</td>\n",
       "    </tr>\n",
       "    <tr>\n",
       "      <th>5</th>\n",
       "      <td>24</td>\n",
       "      <td>24</td>\n",
       "      <td>24</td>\n",
       "      <td>24</td>\n",
       "      <td>24</td>\n",
       "      <td>24</td>\n",
       "      <td>24</td>\n",
       "      <td>24</td>\n",
       "      <td>24</td>\n",
       "      <td>24</td>\n",
       "      <td>...</td>\n",
       "      <td>24</td>\n",
       "      <td>24</td>\n",
       "      <td>24</td>\n",
       "      <td>24</td>\n",
       "      <td>24</td>\n",
       "      <td>24</td>\n",
       "      <td>24</td>\n",
       "      <td>24</td>\n",
       "      <td>24</td>\n",
       "      <td>24</td>\n",
       "    </tr>\n",
       "    <tr>\n",
       "      <th>6</th>\n",
       "      <td>21</td>\n",
       "      <td>21</td>\n",
       "      <td>21</td>\n",
       "      <td>21</td>\n",
       "      <td>21</td>\n",
       "      <td>21</td>\n",
       "      <td>21</td>\n",
       "      <td>21</td>\n",
       "      <td>21</td>\n",
       "      <td>21</td>\n",
       "      <td>...</td>\n",
       "      <td>21</td>\n",
       "      <td>21</td>\n",
       "      <td>21</td>\n",
       "      <td>21</td>\n",
       "      <td>21</td>\n",
       "      <td>21</td>\n",
       "      <td>21</td>\n",
       "      <td>21</td>\n",
       "      <td>21</td>\n",
       "      <td>21</td>\n",
       "    </tr>\n",
       "    <tr>\n",
       "      <th>7</th>\n",
       "      <td>20</td>\n",
       "      <td>20</td>\n",
       "      <td>20</td>\n",
       "      <td>20</td>\n",
       "      <td>20</td>\n",
       "      <td>20</td>\n",
       "      <td>20</td>\n",
       "      <td>20</td>\n",
       "      <td>20</td>\n",
       "      <td>20</td>\n",
       "      <td>...</td>\n",
       "      <td>20</td>\n",
       "      <td>20</td>\n",
       "      <td>20</td>\n",
       "      <td>20</td>\n",
       "      <td>20</td>\n",
       "      <td>20</td>\n",
       "      <td>20</td>\n",
       "      <td>20</td>\n",
       "      <td>20</td>\n",
       "      <td>20</td>\n",
       "    </tr>\n",
       "  </tbody>\n",
       "</table>\n",
       "<p>9 rows × 108 columns</p>\n",
       "</div>"
      ],
      "text/plain": [
       "       userid  user_screen_name  user_display_name  follower_count  \\\n",
       "label                                                                \n",
       "-1        217               217                217             217   \n",
       " 0      10204             10204              10204           10204   \n",
       " 1         33                33                 33              33   \n",
       " 2         16                16                 16              16   \n",
       " 3         17                17                 17              17   \n",
       " 4         23                23                 23              23   \n",
       " 5         24                24                 24              24   \n",
       " 6         21                21                 21              21   \n",
       " 7         20                20                 20              20   \n",
       "\n",
       "       tweet_text  is_retweet  retweet_count  hashtags  0_dim  1_dim  ...  \\\n",
       "label                                                                 ...   \n",
       "-1            217         217            217       217    217    217  ...   \n",
       " 0          10204       10204          10204     10204  10204  10204  ...   \n",
       " 1             33          33             33        33     33     33  ...   \n",
       " 2             16          16             16        16     16     16  ...   \n",
       " 3             17          17             17        17     17     17  ...   \n",
       " 4             23          23             23        23     23     23  ...   \n",
       " 5             24          24             24        24     24     24  ...   \n",
       " 6             21          21             21        21     21     21  ...   \n",
       " 7             20          20             20        20     20     20  ...   \n",
       "\n",
       "       90_dim  91_dim  92_dim  93_dim  94_dim  95_dim  96_dim  97_dim  98_dim  \\\n",
       "label                                                                           \n",
       "-1        217     217     217     217     217     217     217     217     217   \n",
       " 0      10204   10204   10204   10204   10204   10204   10204   10204   10204   \n",
       " 1         33      33      33      33      33      33      33      33      33   \n",
       " 2         16      16      16      16      16      16      16      16      16   \n",
       " 3         17      17      17      17      17      17      17      17      17   \n",
       " 4         23      23      23      23      23      23      23      23      23   \n",
       " 5         24      24      24      24      24      24      24      24      24   \n",
       " 6         21      21      21      21      21      21      21      21      21   \n",
       " 7         20      20      20      20      20      20      20      20      20   \n",
       "\n",
       "       99_dim  \n",
       "label          \n",
       "-1        217  \n",
       " 0      10204  \n",
       " 1         33  \n",
       " 2         16  \n",
       " 3         17  \n",
       " 4         23  \n",
       " 5         24  \n",
       " 6         21  \n",
       " 7         20  \n",
       "\n",
       "[9 rows x 108 columns]"
      ]
     },
     "execution_count": 37,
     "metadata": {},
     "output_type": "execute_result"
    }
   ],
   "source": [
    "data.groupby(\"label\").count()"
   ]
  },
  {
   "cell_type": "code",
   "execution_count": 31,
   "metadata": {},
   "outputs": [],
   "source": [
    "# Set up tokenizer\n",
    "tokenizer = RegexpTokenizer(r'\\w+')\n",
    "\n",
    "# Set stop words\n",
    "stop_words = set(stopwords.words('english')) "
   ]
  },
  {
   "cell_type": "code",
   "execution_count": 32,
   "metadata": {},
   "outputs": [],
   "source": [
    "def visualize_cluster(cluster, savepath = None):\n",
    "    \n",
    "    # Get subset\n",
    "    subset  = data[data.label == cluster]\n",
    "    \n",
    "    # Tokenize, remove stopwords\n",
    "    tweets_tokenized = [tokenizer.tokenize(t) for t in subset[\"tweet_text\"]]\n",
    "\n",
    "    # Remove stopwords\n",
    "    tweets_tokenized_noSwords = np.array([[w for w in tweet_tokens if w not in stop_words] for tweet_tokens in tweets_tokenized])\n",
    "    \n",
    "    # Plot Wordcloud\n",
    "    plot_wordcloud(tweets_tokenized_noSwords,savepath)"
   ]
  },
  {
   "cell_type": "code",
   "execution_count": 39,
   "metadata": {},
   "outputs": [
    {
     "data": {
      "image/png": "[encoded data removed]",
      "text/plain": [
       "<Figure size 576x576 with 1 Axes>"
      ]
     },
     "metadata": {
      "needs_background": "light"
     },
     "output_type": "display_data"
    }
   ],
   "source": [
    "visualize_cluster(7)"
   ]
  },
  {
   "cell_type": "markdown",
   "metadata": {},
   "source": [
    "Conclusion: There are no distinct groups inside the hashtags / topics. Rather the topics themselves are aimed at beeing polarizing."
   ]
  },
  {
   "cell_type": "code",
   "execution_count": null,
   "metadata": {},
   "outputs": [],
   "source": []
  }
 ],
 "metadata": {
  "kernelspec": {
   "display_name": "Python 3",
   "language": "python",
   "name": "python3"
  },
  "language_info": {
   "codemirror_mode": {
    "name": "ipython",
    "version": 3
   },
   "file_extension": ".py",
   "mimetype": "text/x-python",
   "name": "python",
   "nbconvert_exporter": "python",
   "pygments_lexer": "ipython3",
   "version": "3.6.8"
  },
  "varInspector": {
   "cols": {
    "lenName": 16,
    "lenType": 16,
    "lenVar": 40
   },
   "kernels_config": {
    "python": {
     "delete_cmd_postfix": "",
     "delete_cmd_prefix": "del ",
     "library": "var_list.py",
     "varRefreshCmd": "print(var_dic_list())"
    },
    "r": {
     "delete_cmd_postfix": ") ",
     "delete_cmd_prefix": "rm(",
     "library": "var_list.r",
     "varRefreshCmd": "cat(var_dic_list()) "
    }
   },
   "types_to_exclude": [
    "module",
    "function",
    "builtin_function_or_method",
    "instance",
    "_Feature"
   ],
   "window_display": false
  }
 },
 "nbformat": 4,
 "nbformat_minor": 2
}
