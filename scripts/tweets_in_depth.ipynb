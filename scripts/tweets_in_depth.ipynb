{
 "cells": [
  {
   "cell_type": "markdown",
   "metadata": {},
   "source": [
    "### Tweets and User Analysis\n",
    "\n",
    "Let's try to do an in-depth analysis of tweets and users!\n",
    "- Build a retweet / mention network\n",
    "- This could later help with identifying tweets aimed at stirring up controversy\n",
    "- Seperate content providers from content pushers using retweet count etc.\n",
    "\n",
    "#### Preprocessing\n",
    "\n",
    "##### Users\n",
    "What do we suspect the goal of the Russian operation to be?\n",
    "- Polarization can only be pushed from the inside! \n",
    "- Even the most malleable American will be suscpicous (hopefully) about tweets from users outside of the US on US topics\n",
    "- We should thus focus on these \"content\" providers who are pretending to be normal US citizens \n",
    "- Remove tweets that contain cyrillic\n",
    "- Remove users who are self reported to be from Russia\n",
    "- This includes all these news channels etc\n",
    "- Highly likely that the IRA also operates domestically, trying to shape Russian opinions\n",
    "- Zone in on these high reach, fictitcous-american content provider tweets\n",
    "\n",
    "##### Text\n",
    "- Hashtags are important, they convey lots of meaning and can be seen as a topic proxy. Could store them in a different section, outside of pure text (note: they are already in the dataframe as a seperate column!) \n",
    "- Same holds for mentions and retweets\n",
    "- Lowercase, remove punctuation\n",
    "- Remove stopwords \n",
    "- Ngrams?\n",
    "- Stemming\n",
    "- Lemmatization?\n",
    "\n",
    "Break the texts down to their core. Polarization is probably going to manifest itself as the joint occurence of decisive topics and strong opinions on it. At least we can try to identify the topics and then get an idea about the sentiment.\n",
    "\n",
    "What's really annoying is that we ONLY have this Russian data. We don't have any data from the center of the political spectrum.\n",
    "\n",
    "### Data Loading"
   ]
  },
  {
   "cell_type": "code",
   "execution_count": 1,
   "metadata": {},
   "outputs": [],
   "source": [
    "%load_ext autoreload\n",
    "%autoreload 2"
   ]
  },
  {
   "cell_type": "code",
   "execution_count": 1,
   "metadata": {},
   "outputs": [],
   "source": [
    "import pandas as pd\n",
    "import numpy as np\n",
    "import matplotlib.pyplot as plt\n",
    "import seaborn as sns\n",
    "import re\n",
    "import regex\n",
    "\n",
    "# Own defined functions (see utils folder)\n",
    "from utils.cleaning import has_cyrillic, has_arabic"
   ]
  },
  {
   "cell_type": "code",
   "execution_count": 2,
   "metadata": {},
   "outputs": [],
   "source": [
    "plt.rcParams['figure.figsize'] = (12,10)"
   ]
  },
  {
   "cell_type": "code",
   "execution_count": 3,
   "metadata": {},
   "outputs": [
    {
     "name": "stderr",
     "output_type": "stream",
     "text": [
      "/home/adam/anaconda3/lib/python3.6/site-packages/IPython/core/interactiveshell.py:3049: DtypeWarning: Columns (31) have mixed types. Specify dtype option on import or set low_memory=False.\n",
      "  interactivity=interactivity, compiler=compiler, result=result)\n"
     ]
    }
   ],
   "source": [
    "# Data loading\n",
    "tweet_data = pd.read_csv(\"../data/ira_tweets_en.csv\")\n",
    "user_data = pd.read_csv(\"../data/ira_users_csv_hashed.csv\")"
   ]
  },
  {
   "cell_type": "code",
   "execution_count": 4,
   "metadata": {},
   "outputs": [],
   "source": [
    "# Let's filter out tweets with cyrillc texts\n",
    "is_cyrillic = tweet_data[\"tweet_text\"].apply(has_cyrillic)\n",
    "\n",
    "# Remove tweets with cyrillic \n",
    "tweet_data = tweet_data[np.invert(is_cyrillic)]\n",
    "\n",
    "\n",
    "# Getting all the users who tweet in english, cuts down by 600\n",
    "user_data = user_data[user_data[\"userid\"].isin(tweet_data.userid.unique())].copy()"
   ]
  },
  {
   "cell_type": "markdown",
   "metadata": {},
   "source": [
    "### Analysis and Cleaning (except tweets)"
   ]
  },
  {
   "cell_type": "markdown",
   "metadata": {},
   "source": [
    "Let's start with checking the tweet data columns:"
   ]
  },
  {
   "cell_type": "code",
   "execution_count": 5,
   "metadata": {},
   "outputs": [
    {
     "data": {
      "text/plain": [
       "Index(['Unnamed: 0', 'tweetid', 'userid', 'user_display_name',\n",
       "       'user_screen_name', 'user_reported_location',\n",
       "       'user_profile_description', 'user_profile_url', 'follower_count',\n",
       "       'following_count', 'account_creation_date', 'account_language',\n",
       "       'tweet_language', 'tweet_text', 'tweet_time', 'tweet_client_name',\n",
       "       'in_reply_to_tweetid', 'in_reply_to_userid', 'quoted_tweet_tweetid',\n",
       "       'is_retweet', 'retweet_userid', 'retweet_tweetid', 'latitude',\n",
       "       'longitude', 'quote_count', 'reply_count', 'like_count',\n",
       "       'retweet_count', 'hashtags', 'urls', 'user_mentions', 'poll_choices'],\n",
       "      dtype='object')"
      ]
     },
     "execution_count": 5,
     "metadata": {},
     "output_type": "execute_result"
    }
   ],
   "source": [
    "tweet_data.columns"
   ]
  },
  {
   "cell_type": "markdown",
   "metadata": {},
   "source": [
    "- Tweetid: Just the Id, no meaningful information except maybe for retweets\n",
    "- UserId: Identifier\n",
    "- User_disply_name: Some of them are hashed, so we'll only gain info from the non-hashed ones\n",
    "- User_screen_name & user_reported_location: We can take out tweets whose user report to be outside of the US\n",
    "- Description and URL: Descripitons are meaningful, could contain information, URL is useless for now\n",
    "- Follower and following count: Very important for reach \n",
    "- Language: Helps us to filter stuff\n",
    "- Tweet text: Core of our analysis, will dive deeper into preprocessing later\n",
    "- Tweet_time: UTC time, only in joint analysis with true location useful\n",
    "- In_reply_to{}: Super useful to establish patterns, but could be hard to make use of without considerable network analysis \n",
    "- Quoted: See in_reply_to\n",
    "- Is retweet: helps us to clean the data\n",
    "- Latitutde, Longitude: We could make a sexy visualization out of this, will be hard though\n",
    "- Quote, reply, like count, retweet count: Impact factors\n",
    "- Hashtags: Super useful for identifying topics\n",
    "\n",
    "Now for the user data:"
   ]
  },
  {
   "cell_type": "code",
   "execution_count": 6,
   "metadata": {},
   "outputs": [
    {
     "data": {
      "text/plain": [
       "Index(['userid', 'user_display_name', 'user_screen_name',\n",
       "       'user_reported_location', 'user_profile_description',\n",
       "       'user_profile_url', 'follower_count', 'following_count',\n",
       "       'account_creation_date', 'account_language'],\n",
       "      dtype='object')"
      ]
     },
     "execution_count": 6,
     "metadata": {},
     "output_type": "execute_result"
    }
   ],
   "source": [
    "user_data.columns"
   ]
  },
  {
   "cell_type": "markdown",
   "metadata": {},
   "source": [
    "These contain mostly aggregate information on location, description and so on. There is no additional information over the tweets data as far as I can tell. I'll now dive into the single columns and start cleaning / preprocessing on the go.\n",
    "\n",
    "#### User Description \n",
    "I will take the user_data for this, so that I don't need to aggregate on tweets.\n",
    "\n",
    "- Clean user description\n",
    "- Remove cyrillic user descriptions\n",
    "- Analyze words in descriptions\n",
    "- Try to cluster / group\n",
    "\n",
    "Notes:\n",
    "- Some of them are also German, French and so on.\n",
    "- We'll also need to deal with that.\n",
    "\n",
    "Some interesting guys (with ID):\n",
    "- 108: \"Print Hillary's face  Pee on it  Send us proofs  Earn money\" -> Some Russian TRoll had a good day :D\n",
    "- 42: \"Constitutional Conservative, member of the counterjihad, am against islam and sharia law, sick and tired of politcal correctness, diversity and multiculturalism\"\n",
    "- 217: \"#American Patriot #Conservative •Political Blogger •#tcot •Proud Husband of @_SherylGilbert #InGodWeTrust\"\n",
    "- 215: \"'I live my own life, #blacktivist'\"\n",
    "- 709: \"white people are the most blood thirsty savages the world has ever seen #BLM #ICantBreath\"\n",
    "- 26: \"We speak for all fellow members of LGBT community across the nation. Gender preference does not define you. Your spirit defines you.\"\n",
    "- 2326: \"TX patriots united for real action. GET READY TO SECEDE! #2A  #Texit #TexasSecede #Texodus\" -> I mean this guy actively calls for secession, if that's not polarizing then I don't know what is.\n",
    "\n",
    "Okay very cool, we can already see the polarizing tendencies in this data!\n",
    "\n",
    "What really confuses me, which was also mentionde in some of the intelligence services analysis are these \"mindfulness\", \"woke\" and \"free spirit\" accounts like these:\n",
    "\n",
    "- 2957: 'I have learned over the years that when one’s mind is made up, this diminishes fear.'\n",
    "- 2652: \"I give thanks everyday that I've been able to take my craziness and make it work for me.\"\n",
    "- 3019: \"Be the change that you wish to see in the world\"\n",
    "- 2810: \"'I will not drown in the rising tide of conformity. I will not let authority ignore me. #staywoke ☯'\"\n",
    "- 1146: 'To live is the rarest thing in the world. Most people exist, that is all'\n",
    "\n",
    "Maybe these are supposed to piss of conservatives?\n",
    "\n",
    "Here's an idea:\n",
    "- We go through (some of) the 3000 users (shouldn't take too long) and classify them by hand!\n",
    "- Train some model on the profile descriptions, clustering by political party\n",
    "- Then use this model to cluster the actual tweets!\n",
    "\n",
    "Let's first clean the user data based on cyrillic descriptions and later locations!\n",
    "\n",
    "Some of the profile descriptions are NaN. I will skip these for now."
   ]
  },
  {
   "cell_type": "code",
   "execution_count": 7,
   "metadata": {},
   "outputs": [
    {
     "data": {
      "text/plain": [
       "1308     every night there's a rock 'n' roll queen #faith\n",
       "1406                                 True The Beatles fan\n",
       "2736    Originally from New York City; Combat veteran,...\n",
       "2178                                                  NaN\n",
       "2412                                          Baconaholic\n",
       "2077          Сноуборд  ...  # канд-т; Токарь-карусельщик\n",
       "1352                   О чём я мечтаю? Быть счастливой...\n",
       "862                                           young money\n",
       "3283    بيع كوينز لودو ستار متوفر اي عدد للطلب واتساب ...\n",
       "1015    Общественный деятель, Член Молодежной палаты п...\n",
       "Name: user_profile_description, dtype: object"
      ]
     },
     "execution_count": 7,
     "metadata": {},
     "output_type": "execute_result"
    }
   ],
   "source": [
    "user_data.user_profile_description.sample(10)"
   ]
  },
  {
   "cell_type": "code",
   "execution_count": 8,
   "metadata": {},
   "outputs": [],
   "source": [
    "# Fill NaN values\n",
    "user_data[\"user_profile_description\"].fillna(value=\"NaN\",inplace = True)"
   ]
  },
  {
   "cell_type": "code",
   "execution_count": 9,
   "metadata": {},
   "outputs": [
    {
     "name": "stdout",
     "output_type": "stream",
     "text": [
      "['Conservative. Politics. Pro-Life. Writer.  #GodBlessAmerica #WakeUpAmerica #InGodWeTrust'\n",
      " 'На воре и шапка горит' '❥ ❣ my sweethearts))' 'NaN' 'NaN' 'NaN'\n",
      " '#Camden #CamdenNewJersey #NewJersey #USA #America #US #CamdenEvents #CamdenNews'\n",
      " 'NaN' 'NaN' 'NaN']\n",
      "[False, True, False, False, False, False, False, False, False, False]\n"
     ]
    }
   ],
   "source": [
    "# Checking that it works as intended to:\n",
    "print(user_data[\"user_profile_description\"].values[0:10])\n",
    "\n",
    "print([has_cyrillic(desc) for desc in user_data[\"user_profile_description\"].values[0:10]])"
   ]
  },
  {
   "cell_type": "code",
   "execution_count": 10,
   "metadata": {},
   "outputs": [
    {
     "name": "stdout",
     "output_type": "stream",
     "text": [
      "Nr. of users with cyrillic descriptions: 818\n"
     ]
    }
   ],
   "source": [
    "# Filter\n",
    "mask_cyrillic_desc = user_data[\"user_profile_description\"].apply(has_cyrillic)\n",
    "\n",
    "print(f\"Nr. of users with cyrillic descriptions: {np.sum(mask_cyrillic_desc)}\")"
   ]
  },
  {
   "cell_type": "code",
   "execution_count": 11,
   "metadata": {},
   "outputs": [],
   "source": [
    "# Filtering users based on cyrillic profile descriptions.\n",
    "user_data = user_data.loc[np.invert(mask_cyrillic_desc),].copy()"
   ]
  },
  {
   "cell_type": "markdown",
   "metadata": {},
   "source": [
    "Now that we've filtered the profile descriptions in cyrillic we can check for the reported languages. Then we filter for only english ones.\n",
    "\n",
    "#### Reported Account Language"
   ]
  },
  {
   "cell_type": "code",
   "execution_count": 12,
   "metadata": {},
   "outputs": [
    {
     "data": {
      "text/plain": [
       "account_language\n",
       "ar         18\n",
       "de         91\n",
       "en       1961\n",
       "en-gb       5\n",
       "es          8\n",
       "fr         10\n",
       "id          1\n",
       "it          7\n",
       "ru        136\n",
       "zh-cn       3\n",
       "Name: userid, dtype: int64"
      ]
     },
     "execution_count": 12,
     "metadata": {},
     "output_type": "execute_result"
    }
   ],
   "source": [
    "user_data.groupby(\"account_language\").count()[\"userid\"]"
   ]
  },
  {
   "cell_type": "markdown",
   "metadata": {},
   "source": [
    "Okay nice, we have 1961 supposedly english accounts. Let's again filter all the others out. "
   ]
  },
  {
   "cell_type": "code",
   "execution_count": 13,
   "metadata": {},
   "outputs": [],
   "source": [
    "user_data = user_data[user_data.account_language == \"en\"].copy()"
   ]
  },
  {
   "cell_type": "markdown",
   "metadata": {},
   "source": [
    "#### Locations\n",
    "\n",
    "Now it's time to check on the locations."
   ]
  },
  {
   "cell_type": "code",
   "execution_count": 14,
   "metadata": {},
   "outputs": [
    {
     "data": {
      "text/plain": [
       "user_reported_location\n",
       "USA                          643\n",
       "United States                105\n",
       "Atlanta                       73\n",
       "US                            60\n",
       "New York, USA                 41\n",
       "NY                            33\n",
       "LA                            29\n",
       "Boston                        22\n",
       "New York, NY                  18\n",
       "New York                      17\n",
       "Los Angeles                   15\n",
       "Atlanta, GA                   14\n",
       "Chicago                       12\n",
       "Philadelphia                   9\n",
       "Phoenix                        8\n",
       "Chicago, IL                    8\n",
       "Texas, USA                     7\n",
       "Houston, TX                    7\n",
       "Arizona                        7\n",
       "Москва                         7\n",
       "دمشق                           7\n",
       "New York City                  6\n",
       "New-York                       6\n",
       "London                         6\n",
       "Los Angeles, CA                6\n",
       "Washington, DC                 6\n",
       "Syria                          6\n",
       "Washington                     5\n",
       "Washington, D.C.               5\n",
       "Dallas                         5\n",
       "                            ... \n",
       "Seattle                        1\n",
       "Santa Monica                   1\n",
       "San Francisco, CA              1\n",
       "San Diego, United States       1\n",
       "San Diego                      1\n",
       "Salt Lake City                 1\n",
       "Salem, Massachusetts           1\n",
       "Saint-P                        1\n",
       "Rhode island                   1\n",
       "Rhode Island                   1\n",
       "Redwood City, California       1\n",
       "Rancho Rinconada, CA, USA      1\n",
       "Raleigh, North Carolina        1\n",
       "Queens, NY                     1\n",
       "Pittsburgh, US                 1\n",
       "Pittsburgh, PA                 1\n",
       "Pittsburgh                     1\n",
       "Philly                         1\n",
       "Philadelhia                    1\n",
       "Pennsylvania                   1\n",
       "Ostin                          1\n",
       "Orlando, FL                    1\n",
       "Orlando                        1\n",
       "Old Bridge, New Jersey         1\n",
       "Oklahoma, USA                  1\n",
       "Oklahoma, PA                   1\n",
       "Oklahoma City                  1\n",
       "Oklahoma                       1\n",
       "Ohio, USA                      1\n",
       "\\tAustin                       1\n",
       "Name: userid, Length: 325, dtype: int64"
      ]
     },
     "execution_count": 14,
     "metadata": {},
     "output_type": "execute_result"
    }
   ],
   "source": [
    "reported_locations = user_data.groupby(user_data.user_reported_location).count()[\"userid\"].sort_values(ascending= False)\n",
    "reported_locations"
   ]
  },
  {
   "cell_type": "markdown",
   "metadata": {},
   "source": [
    "Again some cyrillic or even arabic locations."
   ]
  },
  {
   "cell_type": "code",
   "execution_count": 15,
   "metadata": {},
   "outputs": [
    {
     "data": {
      "image/png": "[encoded data removed]",
      "text/plain": [
       "<Figure size 1080x1080 with 1 Axes>"
      ]
     },
     "metadata": {
      "needs_background": "light"
     },
     "output_type": "display_data"
    }
   ],
   "source": [
    "plt.figure(figsize=(15, 15))\n",
    "sns.barplot(y= reported_locations.iloc[0:50].index, x=reported_locations.iloc[0:50].values);"
   ]
  },
  {
   "cell_type": "markdown",
   "metadata": {},
   "source": [
    "Again, we'll filter out non-latin letters."
   ]
  },
  {
   "cell_type": "code",
   "execution_count": 16,
   "metadata": {},
   "outputs": [
    {
     "name": "stdout",
     "output_type": "stream",
     "text": [
      "35 non-lation location descriptions\n"
     ]
    }
   ],
   "source": [
    "# Check for letters\n",
    "non_latin_locations= [has_arabic(loc) | has_cyrillic(loc) for loc in reported_locations.index]\n",
    "print(f\"{np.sum(non_latin_locations)} non-lation location descriptions\")"
   ]
  },
  {
   "cell_type": "code",
   "execution_count": 17,
   "metadata": {},
   "outputs": [
    {
     "name": "stdout",
     "output_type": "stream",
     "text": [
      "1560 users left after strict cleaning\n"
     ]
    }
   ],
   "source": [
    "# Filter out\n",
    "user_data = user_data[user_data[\"user_reported_location\"].isin(reported_locations.index[np.invert(non_latin_locations)])].copy()\n",
    "print(f\"{user_data.shape[0]} users left after strict cleaning\")"
   ]
  },
  {
   "cell_type": "markdown",
   "metadata": {},
   "source": [
    "This has cut down the number of users by almost half! Let's see the impact on the tweets."
   ]
  },
  {
   "cell_type": "code",
   "execution_count": 18,
   "metadata": {},
   "outputs": [
    {
     "name": "stdout",
     "output_type": "stream",
     "text": [
      "Tweets left: 2536417\n"
     ]
    }
   ],
   "source": [
    "print(f\"Tweets left: {tweet_data[tweet_data.userid.isin(user_data.userid.values)].shape[0]}\")"
   ]
  },
  {
   "cell_type": "markdown",
   "metadata": {},
   "source": [
    "Fine, still 2.5 million tweets, while getting rid of potentially uninformative russian tweets.\n",
    "\n",
    "Let's now dive into the actual tweet data.\n",
    "\n",
    "### Tweet Data\n",
    "\n",
    "I'll start with very basic observations:\n",
    "- Most shared tweets\n",
    "- Accounts with the most followers\n",
    "- Accounts who post the most vs. accounts with many retweets\n",
    "\n",
    "\n",
    "#### The most shared tweets\n",
    "- In terms of retweet, quote, reply and like counts."
   ]
  },
  {
   "cell_type": "code",
   "execution_count": 19,
   "metadata": {},
   "outputs": [],
   "source": [
    "most_quoted = tweet_data.sort_values(by=\"quote_count\", ascending=False)[[\"user_display_name\",\"tweet_text\",\"quote_count\"]]\n",
    "most_retweeted = tweet_data.sort_values(by=\"retweet_count\", ascending=False)[[\"user_display_name\",\"tweet_text\",\"retweet_count\"]]\n",
    "most_replies = tweet_data.sort_values(by=\"reply_count\", ascending=False)[[\"user_display_name\",\"tweet_text\",\"reply_count\"]]\n",
    "most_liked = tweet_data.sort_values(by=\"like_count\", ascending=False)[[\"user_display_name\",\"tweet_text\",\"like_count\"]]"
   ]
  },
  {
   "cell_type": "code",
   "execution_count": 21,
   "metadata": {},
   "outputs": [
    {
     "data": {
      "text/html": [
       "<div>\n",
       "<style scoped>\n",
       "    .dataframe tbody tr th:only-of-type {\n",
       "        vertical-align: middle;\n",
       "    }\n",
       "\n",
       "    .dataframe tbody tr th {\n",
       "        vertical-align: top;\n",
       "    }\n",
       "\n",
       "    .dataframe thead th {\n",
       "        text-align: right;\n",
       "    }\n",
       "</style>\n",
       "<table border=\"1\" class=\"dataframe\">\n",
       "  <thead>\n",
       "    <tr style=\"text-align: right;\">\n",
       "      <th></th>\n",
       "      <th>tweet_text</th>\n",
       "      <th>quote_count</th>\n",
       "    </tr>\n",
       "  </thead>\n",
       "  <tbody>\n",
       "    <tr>\n",
       "      <th>466485</th>\n",
       "      <td>This adorable baby boy's smile is going to completely warm your heart. https://t.co/TWveXVtsJ7</td>\n",
       "      <td>11633.0</td>\n",
       "    </tr>\n",
       "    <tr>\n",
       "      <th>103048</th>\n",
       "      <td>White boyfriend shows true colors on his Black girlfriend over Trump &amp;amp; #BlackLivesMatter Girl, you should've punch that dickhead https://t.co/snWyQCBsis</td>\n",
       "      <td>8827.0</td>\n",
       "    </tr>\n",
       "    <tr>\n",
       "      <th>2052800</th>\n",
       "      <td>Watch what happens when this big brother spots his little sister after getting off the school bus. It's priceless ❤ https://t.co/DKO2X3NMWa</td>\n",
       "      <td>8765.0</td>\n",
       "    </tr>\n",
       "    <tr>\n",
       "      <th>966349</th>\n",
       "      <td>Nigerian Physician, Dr. Oluyinka Olutoye cut a woman baby out her womb at 23 weeks old, successfully operated on the baby after taking out a tumor, then placed the baby back into the mum's womb &amp;a...</td>\n",
       "      <td>7901.0</td>\n",
       "    </tr>\n",
       "    <tr>\n",
       "      <th>2792181</th>\n",
       "      <td>You probably didn't learn this in school: https://t.co/izSRhALylm</td>\n",
       "      <td>7808.0</td>\n",
       "    </tr>\n",
       "    <tr>\n",
       "      <th>2080950</th>\n",
       "      <td>Man Gives WAITER a $300 TIP and CRIES! https://t.co/ePU9kl3M8M</td>\n",
       "      <td>7508.0</td>\n",
       "    </tr>\n",
       "    <tr>\n",
       "      <th>2313814</th>\n",
       "      <td>For those who support #AltonSterling isn’t it a problem that he had a criminal record and was a convinced pedophile? https://t.co/UedQtzFlzb</td>\n",
       "      <td>6974.0</td>\n",
       "    </tr>\n",
       "    <tr>\n",
       "      <th>2953216</th>\n",
       "      <td>These emotions... You can hear the pain in her voice😢 https://t.co/K98Fzep7K3</td>\n",
       "      <td>6196.0</td>\n",
       "    </tr>\n",
       "    <tr>\n",
       "      <th>440440</th>\n",
       "      <td>Oregon man who followed a Black Muslim couple for 20 blocks, yelling  racial slurs at them, burst into tears after he was charged with a hate  crime.   My favorite type of bigot is the crying bigo...</td>\n",
       "      <td>6082.0</td>\n",
       "    </tr>\n",
       "    <tr>\n",
       "      <th>936111</th>\n",
       "      <td>6th-grader Xavier Davis was threatened with suspension all because of his haircut https://t.co/ISUrF9pkAk</td>\n",
       "      <td>5210.0</td>\n",
       "    </tr>\n",
       "  </tbody>\n",
       "</table>\n",
       "</div>"
      ],
      "text/plain": [
       "                                                                                                                                                                                                      tweet_text  \\\n",
       "466485                                                                                                            This adorable baby boy's smile is going to completely warm your heart. https://t.co/TWveXVtsJ7   \n",
       "103048                                              White boyfriend shows true colors on his Black girlfriend over Trump &amp; #BlackLivesMatter Girl, you should've punch that dickhead https://t.co/snWyQCBsis   \n",
       "2052800                                                              Watch what happens when this big brother spots his little sister after getting off the school bus. It's priceless ❤ https://t.co/DKO2X3NMWa   \n",
       "966349   Nigerian Physician, Dr. Oluyinka Olutoye cut a woman baby out her womb at 23 weeks old, successfully operated on the baby after taking out a tumor, then placed the baby back into the mum's womb &a...   \n",
       "2792181                                                                                                                                        You probably didn't learn this in school: https://t.co/izSRhALylm   \n",
       "2080950                                                                                                                                           Man Gives WAITER a $300 TIP and CRIES! https://t.co/ePU9kl3M8M   \n",
       "2313814                                                             For those who support #AltonSterling isn’t it a problem that he had a criminal record and was a convinced pedophile? https://t.co/UedQtzFlzb   \n",
       "2953216                                                                                                                            These emotions... You can hear the pain in her voice😢 https://t.co/K98Fzep7K3   \n",
       "440440   Oregon man who followed a Black Muslim couple for 20 blocks, yelling  racial slurs at them, burst into tears after he was charged with a hate  crime.   My favorite type of bigot is the crying bigo...   \n",
       "936111                                                                                                 6th-grader Xavier Davis was threatened with suspension all because of his haircut https://t.co/ISUrF9pkAk   \n",
       "\n",
       "         quote_count  \n",
       "466485       11633.0  \n",
       "103048        8827.0  \n",
       "2052800       8765.0  \n",
       "966349        7901.0  \n",
       "2792181       7808.0  \n",
       "2080950       7508.0  \n",
       "2313814       6974.0  \n",
       "2953216       6196.0  \n",
       "440440        6082.0  \n",
       "936111        5210.0  "
      ]
     },
     "execution_count": 21,
     "metadata": {},
     "output_type": "execute_result"
    }
   ],
   "source": [
    "pd.set_option('max_colwidth', 200)\n",
    "most_quoted.iloc[0:10,][[\"tweet_text\",\"quote_count\"]]"
   ]
  },
  {
   "cell_type": "code",
   "execution_count": 22,
   "metadata": {},
   "outputs": [
    {
     "data": {
      "text/html": [
       "<div>\n",
       "<style scoped>\n",
       "    .dataframe tbody tr th:only-of-type {\n",
       "        vertical-align: middle;\n",
       "    }\n",
       "\n",
       "    .dataframe tbody tr th {\n",
       "        vertical-align: top;\n",
       "    }\n",
       "\n",
       "    .dataframe thead th {\n",
       "        text-align: right;\n",
       "    }\n",
       "</style>\n",
       "<table border=\"1\" class=\"dataframe\">\n",
       "  <thead>\n",
       "    <tr style=\"text-align: right;\">\n",
       "      <th></th>\n",
       "      <th>tweet_text</th>\n",
       "      <th>retweet_count</th>\n",
       "    </tr>\n",
       "  </thead>\n",
       "  <tbody>\n",
       "    <tr>\n",
       "      <th>2196656</th>\n",
       "      <td>Daily reminder that the most educated First Lady in American history is a black woman with two Ivy League degrees from Harvard and Princeton https://t.co/oTBTmu2tCw</td>\n",
       "      <td>123617.0</td>\n",
       "    </tr>\n",
       "    <tr>\n",
       "      <th>1983663</th>\n",
       "      <td>Obama (2012) sits alone in a classroom after meeting for hours with parents of Sandy Hook victims.   Trump (2018) sits at a disco party he threw at his private night club after spending 14 minutes...</td>\n",
       "      <td>113066.0</td>\n",
       "    </tr>\n",
       "    <tr>\n",
       "      <th>2953216</th>\n",
       "      <td>These emotions... You can hear the pain in her voice😢 https://t.co/K98Fzep7K3</td>\n",
       "      <td>97498.0</td>\n",
       "    </tr>\n",
       "    <tr>\n",
       "      <th>966349</th>\n",
       "      <td>Nigerian Physician, Dr. Oluyinka Olutoye cut a woman baby out her womb at 23 weeks old, successfully operated on the baby after taking out a tumor, then placed the baby back into the mum's womb &amp;a...</td>\n",
       "      <td>86619.0</td>\n",
       "    </tr>\n",
       "    <tr>\n",
       "      <th>466485</th>\n",
       "      <td>This adorable baby boy's smile is going to completely warm your heart. https://t.co/TWveXVtsJ7</td>\n",
       "      <td>74524.0</td>\n",
       "    </tr>\n",
       "    <tr>\n",
       "      <th>1852222</th>\n",
       "      <td>\"This is what white people get to feel like ALL THE TIME?!\" https://t.co/cMvvyNF8gN</td>\n",
       "      <td>65564.0</td>\n",
       "    </tr>\n",
       "    <tr>\n",
       "      <th>2052800</th>\n",
       "      <td>Watch what happens when this big brother spots his little sister after getting off the school bus. It's priceless ❤ https://t.co/DKO2X3NMWa</td>\n",
       "      <td>59292.0</td>\n",
       "    </tr>\n",
       "    <tr>\n",
       "      <th>62043</th>\n",
       "      <td>Don’t ever tell me kneeling for the flag is disrespectful to our troops when  Trump calls a sitting Senator “Pocahontas” in front of Native American war heroes.</td>\n",
       "      <td>51472.0</td>\n",
       "    </tr>\n",
       "    <tr>\n",
       "      <th>1722561</th>\n",
       "      <td>If this little girl's way of reminding her dad to hold her hand isn't one of the cutest 10 seconds of video you've ever seen.. \"Excuse me.\"😍 https://t.co/oCrbnCpI0u</td>\n",
       "      <td>51285.0</td>\n",
       "    </tr>\n",
       "    <tr>\n",
       "      <th>1069216</th>\n",
       "      <td>This powerful video shows the conversations Black parents give to kids navigating racism https://t.co/cuCtPBSy7v</td>\n",
       "      <td>50217.0</td>\n",
       "    </tr>\n",
       "  </tbody>\n",
       "</table>\n",
       "</div>"
      ],
      "text/plain": [
       "                                                                                                                                                                                                      tweet_text  \\\n",
       "2196656                                     Daily reminder that the most educated First Lady in American history is a black woman with two Ivy League degrees from Harvard and Princeton https://t.co/oTBTmu2tCw   \n",
       "1983663  Obama (2012) sits alone in a classroom after meeting for hours with parents of Sandy Hook victims.   Trump (2018) sits at a disco party he threw at his private night club after spending 14 minutes...   \n",
       "2953216                                                                                                                            These emotions... You can hear the pain in her voice😢 https://t.co/K98Fzep7K3   \n",
       "966349   Nigerian Physician, Dr. Oluyinka Olutoye cut a woman baby out her womb at 23 weeks old, successfully operated on the baby after taking out a tumor, then placed the baby back into the mum's womb &a...   \n",
       "466485                                                                                                            This adorable baby boy's smile is going to completely warm your heart. https://t.co/TWveXVtsJ7   \n",
       "1852222                                                                                                                      \"This is what white people get to feel like ALL THE TIME?!\" https://t.co/cMvvyNF8gN   \n",
       "2052800                                                              Watch what happens when this big brother spots his little sister after getting off the school bus. It's priceless ❤ https://t.co/DKO2X3NMWa   \n",
       "62043                                           Don’t ever tell me kneeling for the flag is disrespectful to our troops when  Trump calls a sitting Senator “Pocahontas” in front of Native American war heroes.   \n",
       "1722561                                     If this little girl's way of reminding her dad to hold her hand isn't one of the cutest 10 seconds of video you've ever seen.. \"Excuse me.\"😍 https://t.co/oCrbnCpI0u   \n",
       "1069216                                                                                         This powerful video shows the conversations Black parents give to kids navigating racism https://t.co/cuCtPBSy7v   \n",
       "\n",
       "         retweet_count  \n",
       "2196656       123617.0  \n",
       "1983663       113066.0  \n",
       "2953216        97498.0  \n",
       "966349         86619.0  \n",
       "466485         74524.0  \n",
       "1852222        65564.0  \n",
       "2052800        59292.0  \n",
       "62043          51472.0  \n",
       "1722561        51285.0  \n",
       "1069216        50217.0  "
      ]
     },
     "execution_count": 22,
     "metadata": {},
     "output_type": "execute_result"
    }
   ],
   "source": [
    "most_retweeted.iloc[0:10,][[\"tweet_text\",\"retweet_count\"]]"
   ]
  },
  {
   "cell_type": "code",
   "execution_count": 23,
   "metadata": {},
   "outputs": [
    {
     "data": {
      "text/html": [
       "<div>\n",
       "<style scoped>\n",
       "    .dataframe tbody tr th:only-of-type {\n",
       "        vertical-align: middle;\n",
       "    }\n",
       "\n",
       "    .dataframe tbody tr th {\n",
       "        vertical-align: top;\n",
       "    }\n",
       "\n",
       "    .dataframe thead th {\n",
       "        text-align: right;\n",
       "    }\n",
       "</style>\n",
       "<table border=\"1\" class=\"dataframe\">\n",
       "  <thead>\n",
       "    <tr style=\"text-align: right;\">\n",
       "      <th></th>\n",
       "      <th>tweet_text</th>\n",
       "      <th>reply_count</th>\n",
       "    </tr>\n",
       "  </thead>\n",
       "  <tbody>\n",
       "    <tr>\n",
       "      <th>662836</th>\n",
       "      <td>Please RT &amp;amp; help identify these scumbags who viciously beat kids in Quincy, MA. https://t.co/aj0ImTH7cF</td>\n",
       "      <td>3249.0</td>\n",
       "    </tr>\n",
       "    <tr>\n",
       "      <th>99011</th>\n",
       "      <td>If Comey is “slippery” and  Obama is “cheatin”,  what do we call a guy sued by pornstar, accused of assault, who got his lawyer's office raided by FBI?</td>\n",
       "      <td>2621.0</td>\n",
       "    </tr>\n",
       "    <tr>\n",
       "      <th>1863547</th>\n",
       "      <td>Thugs threaten to kill President Trump for taking away food stamps!   Let's make them famous! https://t.co/R3g8c6NV5q</td>\n",
       "      <td>2620.0</td>\n",
       "    </tr>\n",
       "    <tr>\n",
       "      <th>440440</th>\n",
       "      <td>Oregon man who followed a Black Muslim couple for 20 blocks, yelling  racial slurs at them, burst into tears after he was charged with a hate  crime.   My favorite type of bigot is the crying bigo...</td>\n",
       "      <td>2599.0</td>\n",
       "    </tr>\n",
       "    <tr>\n",
       "      <th>1480104</th>\n",
       "      <td>More hate from the Left... https://t.co/SZ55wJ5JGu</td>\n",
       "      <td>2516.0</td>\n",
       "    </tr>\n",
       "    <tr>\n",
       "      <th>2706250</th>\n",
       "      <td>If Comey is “slippery” and  Obama is “cheatin”,  what do we call a guy sued by pornstar, accused of assault, who got his lawyer's office raided by FBI?</td>\n",
       "      <td>2322.0</td>\n",
       "    </tr>\n",
       "    <tr>\n",
       "      <th>1953476</th>\n",
       "      <td>\"I hope they (Trump and his voters) leave their bodies to science. I would like to cut them open\" ~ @SenWarren during an event in Chicago. https://t.co/xlXoOwstTo</td>\n",
       "      <td>2236.0</td>\n",
       "    </tr>\n",
       "    <tr>\n",
       "      <th>854476</th>\n",
       "      <td>In the light of Sam Nunberg’s on-air meltdown, it seems like a good time to remind everyone:    8 YEARS.  0 SCANDALS. https://t.co/IkY0w99NH3</td>\n",
       "      <td>2173.0</td>\n",
       "    </tr>\n",
       "    <tr>\n",
       "      <th>1306074</th>\n",
       "      <td>Tucker: How does Maxine Waters afford a $4.3 Million Mansion on 40 years of government work?  🤔🤔🤔 https://t.co/YO7WGJa5fU</td>\n",
       "      <td>2158.0</td>\n",
       "    </tr>\n",
       "    <tr>\n",
       "      <th>2792181</th>\n",
       "      <td>You probably didn't learn this in school: https://t.co/izSRhALylm</td>\n",
       "      <td>2087.0</td>\n",
       "    </tr>\n",
       "  </tbody>\n",
       "</table>\n",
       "</div>"
      ],
      "text/plain": [
       "                                                                                                                                                                                                      tweet_text  \\\n",
       "662836                                                                                               Please RT &amp; help identify these scumbags who viciously beat kids in Quincy, MA. https://t.co/aj0ImTH7cF   \n",
       "99011                                                    If Comey is “slippery” and  Obama is “cheatin”,  what do we call a guy sued by pornstar, accused of assault, who got his lawyer's office raided by FBI?   \n",
       "1863547                                                                                    Thugs threaten to kill President Trump for taking away food stamps!   Let's make them famous! https://t.co/R3g8c6NV5q   \n",
       "440440   Oregon man who followed a Black Muslim couple for 20 blocks, yelling  racial slurs at them, burst into tears after he was charged with a hate  crime.   My favorite type of bigot is the crying bigo...   \n",
       "1480104                                                                                                                                                       More hate from the Left... https://t.co/SZ55wJ5JGu   \n",
       "2706250                                                  If Comey is “slippery” and  Obama is “cheatin”,  what do we call a guy sued by pornstar, accused of assault, who got his lawyer's office raided by FBI?   \n",
       "1953476                                       \"I hope they (Trump and his voters) leave their bodies to science. I would like to cut them open\" ~ @SenWarren during an event in Chicago. https://t.co/xlXoOwstTo   \n",
       "854476                                                             In the light of Sam Nunberg’s on-air meltdown, it seems like a good time to remind everyone:    8 YEARS.  0 SCANDALS. https://t.co/IkY0w99NH3   \n",
       "1306074                                                                                Tucker: How does Maxine Waters afford a $4.3 Million Mansion on 40 years of government work?  🤔🤔🤔 https://t.co/YO7WGJa5fU   \n",
       "2792181                                                                                                                                        You probably didn't learn this in school: https://t.co/izSRhALylm   \n",
       "\n",
       "         reply_count  \n",
       "662836        3249.0  \n",
       "99011         2621.0  \n",
       "1863547       2620.0  \n",
       "440440        2599.0  \n",
       "1480104       2516.0  \n",
       "2706250       2322.0  \n",
       "1953476       2236.0  \n",
       "854476        2173.0  \n",
       "1306074       2158.0  \n",
       "2792181       2087.0  "
      ]
     },
     "execution_count": 23,
     "metadata": {},
     "output_type": "execute_result"
    }
   ],
   "source": [
    "most_replies.iloc[0:10,][[\"tweet_text\",\"reply_count\"]]"
   ]
  },
  {
   "cell_type": "code",
   "execution_count": 24,
   "metadata": {},
   "outputs": [
    {
     "data": {
      "text/html": [
       "<div>\n",
       "<style scoped>\n",
       "    .dataframe tbody tr th:only-of-type {\n",
       "        vertical-align: middle;\n",
       "    }\n",
       "\n",
       "    .dataframe tbody tr th {\n",
       "        vertical-align: top;\n",
       "    }\n",
       "\n",
       "    .dataframe thead th {\n",
       "        text-align: right;\n",
       "    }\n",
       "</style>\n",
       "<table border=\"1\" class=\"dataframe\">\n",
       "  <thead>\n",
       "    <tr style=\"text-align: right;\">\n",
       "      <th></th>\n",
       "      <th>tweet_text</th>\n",
       "      <th>like_count</th>\n",
       "    </tr>\n",
       "  </thead>\n",
       "  <tbody>\n",
       "    <tr>\n",
       "      <th>2196656</th>\n",
       "      <td>Daily reminder that the most educated First Lady in American history is a black woman with two Ivy League degrees from Harvard and Princeton https://t.co/oTBTmu2tCw</td>\n",
       "      <td>325826.0</td>\n",
       "    </tr>\n",
       "    <tr>\n",
       "      <th>966349</th>\n",
       "      <td>Nigerian Physician, Dr. Oluyinka Olutoye cut a woman baby out her womb at 23 weeks old, successfully operated on the baby after taking out a tumor, then placed the baby back into the mum's womb &amp;a...</td>\n",
       "      <td>248913.0</td>\n",
       "    </tr>\n",
       "    <tr>\n",
       "      <th>1983663</th>\n",
       "      <td>Obama (2012) sits alone in a classroom after meeting for hours with parents of Sandy Hook victims.   Trump (2018) sits at a disco party he threw at his private night club after spending 14 minutes...</td>\n",
       "      <td>246722.0</td>\n",
       "    </tr>\n",
       "    <tr>\n",
       "      <th>466485</th>\n",
       "      <td>This adorable baby boy's smile is going to completely warm your heart. https://t.co/TWveXVtsJ7</td>\n",
       "      <td>182821.0</td>\n",
       "    </tr>\n",
       "    <tr>\n",
       "      <th>2052800</th>\n",
       "      <td>Watch what happens when this big brother spots his little sister after getting off the school bus. It's priceless ❤ https://t.co/DKO2X3NMWa</td>\n",
       "      <td>150461.0</td>\n",
       "    </tr>\n",
       "    <tr>\n",
       "      <th>62043</th>\n",
       "      <td>Don’t ever tell me kneeling for the flag is disrespectful to our troops when  Trump calls a sitting Senator “Pocahontas” in front of Native American war heroes.</td>\n",
       "      <td>150363.0</td>\n",
       "    </tr>\n",
       "    <tr>\n",
       "      <th>2958405</th>\n",
       "      <td>Naylah Williams take's a knee during the National Anthem at Niskayuna High School. https://t.co/JKFYacb8w0</td>\n",
       "      <td>146844.0</td>\n",
       "    </tr>\n",
       "    <tr>\n",
       "      <th>1852222</th>\n",
       "      <td>\"This is what white people get to feel like ALL THE TIME?!\" https://t.co/cMvvyNF8gN</td>\n",
       "      <td>136880.0</td>\n",
       "    </tr>\n",
       "    <tr>\n",
       "      <th>2953216</th>\n",
       "      <td>These emotions... You can hear the pain in her voice😢 https://t.co/K98Fzep7K3</td>\n",
       "      <td>136013.0</td>\n",
       "    </tr>\n",
       "    <tr>\n",
       "      <th>737993</th>\n",
       "      <td>8th grader, Kory Terrell is the Texas Spelling Bee champion! Show him some love. These things go unnoticed! ✊🏿✊🏿✊🏿 https://t.co/acpG8QAWqu</td>\n",
       "      <td>109952.0</td>\n",
       "    </tr>\n",
       "  </tbody>\n",
       "</table>\n",
       "</div>"
      ],
      "text/plain": [
       "                                                                                                                                                                                                      tweet_text  \\\n",
       "2196656                                     Daily reminder that the most educated First Lady in American history is a black woman with two Ivy League degrees from Harvard and Princeton https://t.co/oTBTmu2tCw   \n",
       "966349   Nigerian Physician, Dr. Oluyinka Olutoye cut a woman baby out her womb at 23 weeks old, successfully operated on the baby after taking out a tumor, then placed the baby back into the mum's womb &a...   \n",
       "1983663  Obama (2012) sits alone in a classroom after meeting for hours with parents of Sandy Hook victims.   Trump (2018) sits at a disco party he threw at his private night club after spending 14 minutes...   \n",
       "466485                                                                                                            This adorable baby boy's smile is going to completely warm your heart. https://t.co/TWveXVtsJ7   \n",
       "2052800                                                              Watch what happens when this big brother spots his little sister after getting off the school bus. It's priceless ❤ https://t.co/DKO2X3NMWa   \n",
       "62043                                           Don’t ever tell me kneeling for the flag is disrespectful to our troops when  Trump calls a sitting Senator “Pocahontas” in front of Native American war heroes.   \n",
       "2958405                                                                                               Naylah Williams take's a knee during the National Anthem at Niskayuna High School. https://t.co/JKFYacb8w0   \n",
       "1852222                                                                                                                      \"This is what white people get to feel like ALL THE TIME?!\" https://t.co/cMvvyNF8gN   \n",
       "2953216                                                                                                                            These emotions... You can hear the pain in her voice😢 https://t.co/K98Fzep7K3   \n",
       "737993                                                                8th grader, Kory Terrell is the Texas Spelling Bee champion! Show him some love. These things go unnoticed! ✊🏿✊🏿✊🏿 https://t.co/acpG8QAWqu   \n",
       "\n",
       "         like_count  \n",
       "2196656    325826.0  \n",
       "966349     248913.0  \n",
       "1983663    246722.0  \n",
       "466485     182821.0  \n",
       "2052800    150461.0  \n",
       "62043      150363.0  \n",
       "2958405    146844.0  \n",
       "1852222    136880.0  \n",
       "2953216    136013.0  \n",
       "737993     109952.0  "
      ]
     },
     "execution_count": 24,
     "metadata": {},
     "output_type": "execute_result"
    }
   ],
   "source": [
    "most_liked.iloc[0:10,][[\"tweet_text\",\"like_count\"]]"
   ]
  },
  {
   "cell_type": "markdown",
   "metadata": {},
   "source": [
    "Some observations:\n",
    "- Huge overlap between the 4 metrics\n",
    "- Most of them are clearly in either of the directions\n",
    "\n",
    "### Differentiating between content creators and amplifiers\n",
    "\n",
    "This is going to be a bit tricky but should help with the text analysis later on.\n",
    "- Check number of retweets by user\n",
    "- If the number of retweets as fraction of overall tweets exceeds a certain threshold we can think of these accounts as bots aimed at amplifing the impact\n"
   ]
  },
  {
   "cell_type": "code",
   "execution_count": 25,
   "metadata": {},
   "outputs": [],
   "source": [
    "# Percentage of retweets over all tweets by user\n",
    "retweet_percentage = tweet_data.groupby([tweet_data.userid]).mean()[\"is_retweet\"]"
   ]
  },
  {
   "cell_type": "code",
   "execution_count": 26,
   "metadata": {},
   "outputs": [
    {
     "data": {
      "image/png": "[encoded data removed]",
      "text/plain": [
       "<Figure size 864x720 with 1 Axes>"
      ]
     },
     "metadata": {
      "needs_background": "light"
     },
     "output_type": "display_data"
    }
   ],
   "source": [
    "# Let's see the distribution of the retweet percentage\n",
    "sns.distplot(retweet_percentage, kde=False, bins=20,color =\"blue\",norm_hist=True);"
   ]
  },
  {
   "cell_type": "markdown",
   "metadata": {},
   "source": [
    "Interesting again. Some users only retweet, others never retweet. Let's visualize this by number of tweets in total."
   ]
  },
  {
   "cell_type": "code",
   "execution_count": 27,
   "metadata": {},
   "outputs": [],
   "source": [
    "no_tweets = tweet_data.groupby(\"userid\").count()[\"tweetid\"]"
   ]
  },
  {
   "cell_type": "code",
   "execution_count": 28,
   "metadata": {},
   "outputs": [
    {
     "data": {
      "text/plain": [
       "Text(0, 0.5, 'Log of Total Nr. of Tweets')"
      ]
     },
     "execution_count": 28,
     "metadata": {},
     "output_type": "execute_result"
    },
    {
     "data": {
      "image/png": "[encoded data removed]",
      "text/plain": [
       "<Figure size 864x720 with 1 Axes>"
      ]
     },
     "metadata": {
      "needs_background": "light"
     },
     "output_type": "display_data"
    }
   ],
   "source": [
    "h = sns.scatterplot(y = np.log(no_tweets.values), x= retweet_percentage.values)\n",
    "h.set_xlabel(\"Percentage of Retweets\",fontsize = 15)\n",
    "h.set_ylabel(\"Log of Total Nr. of Tweets\",fontsize = 15)"
   ]
  },
  {
   "cell_type": "markdown",
   "metadata": {},
   "source": [
    "Let's see the same thing by follower count:"
   ]
  },
  {
   "cell_type": "code",
   "execution_count": 29,
   "metadata": {},
   "outputs": [
    {
     "data": {
      "text/plain": [
       "Text(0, 0.5, 'Nr. of Followers')"
      ]
     },
     "execution_count": 29,
     "metadata": {},
     "output_type": "execute_result"
    },
    {
     "data": {
      "image/png": "[encoded data removed]",
      "text/plain": [
       "<Figure size 864x720 with 1 Axes>"
      ]
     },
     "metadata": {
      "needs_background": "light"
     },
     "output_type": "display_data"
    }
   ],
   "source": [
    "h = sns.scatterplot(y = tweet_data.groupby(\"userid\").mean()[\"follower_count\"], x= retweet_percentage.values)\n",
    "h.set_xlabel(\"Percentage of Retweets\",fontsize = 15)\n",
    "h.set_ylabel(\"Nr. of Followers\",fontsize = 15)"
   ]
  },
  {
   "cell_type": "markdown",
   "metadata": {},
   "source": [
    "Looks like the original content providers have a higher follower count on average.\n",
    "\n",
    "I think I'll have to start working with the text itself now, otherwise I wont get much meaningful information out of this.\n",
    "\n",
    "### The Tweets\n",
    "\n",
    "Preprocessing first!\n",
    "\n",
    "1. Convert to lowercase\n",
    "2. Remove retweets, mentions, emojis, hashtags, links\n",
    "3. Stemming or Lemmatization\n",
    "\n",
    "Embedding later!"
   ]
  },
  {
   "cell_type": "code",
   "execution_count": 35,
   "metadata": {},
   "outputs": [],
   "source": [
    "# Text mining packages\n",
    "import spacy\n",
    "from bs4 import BeautifulSoup\n",
    "import nltk\n",
    "\n",
    "# Import cleaning function\n",
    "from utils.cleaning import clean_tweet\n",
    "\n",
    "clean_new = False"
   ]
  },
  {
   "cell_type": "code",
   "execution_count": 37,
   "metadata": {},
   "outputs": [
    {
     "name": "stderr",
     "output_type": "stream",
     "text": [
      "/home/adam/anaconda3/lib/python3.6/site-packages/IPython/core/interactiveshell.py:3049: DtypeWarning: Columns (32) have mixed types. Specify dtype option on import or set low_memory=False.\n",
      "  interactivity=interactivity, compiler=compiler, result=result)\n"
     ]
    }
   ],
   "source": [
    "if clean_new == True:\n",
    "    \n",
    "    # Clean the tweets\n",
    "    tweets_clean = tweet_data[\"tweet_text\"].apply(clean_tweet)\n",
    "    \n",
    "\n",
    "    # Add it to the data frame and save it, so that we won't need to run this again\n",
    "    tweet_data[\"tweet_text_clean\"] = tweets_clean\n",
    "\n",
    "    # Write to file\n",
    "    tweet_data.to_csv(\"../data/ira_tweets_clean.csv\")\n",
    "\n",
    "else:\n",
    "    # Load cleaned tweets \n",
    "    tweet_data = pd.read_csv(\"../data/ira_tweets_clean.csv\")"
   ]
  },
  {
   "cell_type": "code",
   "execution_count": 34,
   "metadata": {},
   "outputs": [
    {
     "data": {
      "text/plain": [
       "Index(['Unnamed: 0', 'Unnamed: 0.1', 'tweetid', 'userid', 'user_display_name',\n",
       "       'user_screen_name', 'user_reported_location',\n",
       "       'user_profile_description', 'user_profile_url', 'follower_count',\n",
       "       'following_count', 'account_creation_date', 'account_language',\n",
       "       'tweet_language', 'tweet_text', 'tweet_time', 'tweet_client_name',\n",
       "       'in_reply_to_tweetid', 'in_reply_to_userid', 'quoted_tweet_tweetid',\n",
       "       'is_retweet', 'retweet_userid', 'retweet_tweetid', 'latitude',\n",
       "       'longitude', 'quote_count', 'reply_count', 'like_count',\n",
       "       'retweet_count', 'hashtags', 'urls', 'user_mentions', 'poll_choices',\n",
       "       'tweet_text_clean'],\n",
       "      dtype='object')"
      ]
     },
     "execution_count": 34,
     "metadata": {},
     "output_type": "execute_result"
    }
   ],
   "source": [
    "tweet_data.columns"
   ]
  },
  {
   "cell_type": "code",
   "execution_count": 81,
   "metadata": {},
   "outputs": [],
   "source": [
    "# Lemmatization\n",
    "\n",
    "# Loading english language\n",
    "nlp = spacy.load(\"en\")\n",
    "\n",
    "# Lemmatize, remove stop words and remove punctuation\n",
    "def lemmatize(s):\n",
    "    doc = nlp(s)\n",
    "    s = [token.lemma_ for token in doc if not (token.is_stop or token.is_punct)]\n",
    "\n",
    "    # Join back to string\n",
    "    s = ' '.join([w for w in s])\n",
    "    \n",
    "    return s"
   ]
  },
  {
   "cell_type": "code",
   "execution_count": 32,
   "metadata": {},
   "outputs": [
    {
     "name": "stdout",
     "output_type": "stream",
     "text": [
      "RT @jandhobs: Wear a \"Make America Great Again\" novelty eyepatch over your normal swastika eyepatch.  #HowToEscapeADate\n"
     ]
    },
    {
     "ename": "AttributeError",
     "evalue": "'DataFrame' object has no attribute 'tweet_text_clean'",
     "output_type": "error",
     "traceback": [
      "\u001b[0;31m---------------------------------------------------------------------------\u001b[0m",
      "\u001b[0;31mAttributeError\u001b[0m                            Traceback (most recent call last)",
      "\u001b[0;32m<ipython-input-32-62b76390045d>\u001b[0m in \u001b[0;36m<module>\u001b[0;34m\u001b[0m\n\u001b[1;32m      1\u001b[0m \u001b[0mi\u001b[0m \u001b[0;34m=\u001b[0m \u001b[0;36m106\u001b[0m\u001b[0;34m\u001b[0m\u001b[0;34m\u001b[0m\u001b[0m\n\u001b[1;32m      2\u001b[0m \u001b[0mprint\u001b[0m\u001b[0;34m(\u001b[0m\u001b[0mtweet_data\u001b[0m\u001b[0;34m.\u001b[0m\u001b[0mtweet_text\u001b[0m\u001b[0;34m[\u001b[0m\u001b[0mi\u001b[0m\u001b[0;34m]\u001b[0m\u001b[0;34m)\u001b[0m\u001b[0;34m\u001b[0m\u001b[0;34m\u001b[0m\u001b[0m\n\u001b[0;32m----> 3\u001b[0;31m \u001b[0mprint\u001b[0m\u001b[0;34m(\u001b[0m\u001b[0mtweet_data\u001b[0m\u001b[0;34m.\u001b[0m\u001b[0mtweet_text_clean\u001b[0m\u001b[0;34m[\u001b[0m\u001b[0mi\u001b[0m\u001b[0;34m]\u001b[0m\u001b[0;34m)\u001b[0m\u001b[0;34m\u001b[0m\u001b[0;34m\u001b[0m\u001b[0m\n\u001b[0m\u001b[1;32m      4\u001b[0m \u001b[0mprint\u001b[0m\u001b[0;34m(\u001b[0m\u001b[0mlemmatize\u001b[0m\u001b[0;34m(\u001b[0m\u001b[0mtweet_data\u001b[0m\u001b[0;34m.\u001b[0m\u001b[0mtweet_text_clean\u001b[0m\u001b[0;34m[\u001b[0m\u001b[0mi\u001b[0m\u001b[0;34m]\u001b[0m\u001b[0;34m)\u001b[0m\u001b[0;34m)\u001b[0m\u001b[0;34m\u001b[0m\u001b[0;34m\u001b[0m\u001b[0m\n",
      "\u001b[0;32m~/anaconda3/lib/python3.6/site-packages/pandas/core/generic.py\u001b[0m in \u001b[0;36m__getattr__\u001b[0;34m(self, name)\u001b[0m\n\u001b[1;32m   5065\u001b[0m             \u001b[0;32mif\u001b[0m \u001b[0mself\u001b[0m\u001b[0;34m.\u001b[0m\u001b[0m_info_axis\u001b[0m\u001b[0;34m.\u001b[0m\u001b[0m_can_hold_identifiers_and_holds_name\u001b[0m\u001b[0;34m(\u001b[0m\u001b[0mname\u001b[0m\u001b[0;34m)\u001b[0m\u001b[0;34m:\u001b[0m\u001b[0;34m\u001b[0m\u001b[0;34m\u001b[0m\u001b[0m\n\u001b[1;32m   5066\u001b[0m                 \u001b[0;32mreturn\u001b[0m \u001b[0mself\u001b[0m\u001b[0;34m[\u001b[0m\u001b[0mname\u001b[0m\u001b[0;34m]\u001b[0m\u001b[0;34m\u001b[0m\u001b[0;34m\u001b[0m\u001b[0m\n\u001b[0;32m-> 5067\u001b[0;31m             \u001b[0;32mreturn\u001b[0m \u001b[0mobject\u001b[0m\u001b[0;34m.\u001b[0m\u001b[0m__getattribute__\u001b[0m\u001b[0;34m(\u001b[0m\u001b[0mself\u001b[0m\u001b[0;34m,\u001b[0m \u001b[0mname\u001b[0m\u001b[0;34m)\u001b[0m\u001b[0;34m\u001b[0m\u001b[0;34m\u001b[0m\u001b[0m\n\u001b[0m\u001b[1;32m   5068\u001b[0m \u001b[0;34m\u001b[0m\u001b[0m\n\u001b[1;32m   5069\u001b[0m     \u001b[0;32mdef\u001b[0m \u001b[0m__setattr__\u001b[0m\u001b[0;34m(\u001b[0m\u001b[0mself\u001b[0m\u001b[0;34m,\u001b[0m \u001b[0mname\u001b[0m\u001b[0;34m,\u001b[0m \u001b[0mvalue\u001b[0m\u001b[0;34m)\u001b[0m\u001b[0;34m:\u001b[0m\u001b[0;34m\u001b[0m\u001b[0;34m\u001b[0m\u001b[0m\n",
      "\u001b[0;31mAttributeError\u001b[0m: 'DataFrame' object has no attribute 'tweet_text_clean'"
     ]
    }
   ],
   "source": [
    "i = 106\n",
    "print(tweet_data.tweet_text[i])\n",
    "print(tweet_data.tweet_text_clean[i])\n",
    "print(lemmatize(tweet_data.tweet_text_clean[i]))"
   ]
  },
  {
   "cell_type": "markdown",
   "metadata": {},
   "source": [
    "Okay this seems to strong, I can't make out the meaning anymore. For exaqmple, we're dropping \"again\" which is super important for \"make america great again\". Need to think of something smarter.\n",
    "\n",
    "\n",
    "Actually, these guys: https://link.springer.com/chapter/10.1007/978-3-319-09339-0_62 argue that lemmatization and stemming lead to worse performance in terms of sentiment analysis, while features reservation, negation transformation and repeated letters normalization improves it. They also get better results when by using bigrams and emotions features.\n",
    "\n",
    "\n",
    "https://www.sciencedirect.com/science/article/pii/S1877050913001385"
   ]
  },
  {
   "cell_type": "code",
   "execution_count": null,
   "metadata": {},
   "outputs": [],
   "source": []
  },
  {
   "cell_type": "code",
   "execution_count": 101,
   "metadata": {},
   "outputs": [
    {
     "data": {
      "text/plain": [
       "'as sun and cloud give way to moon and shadow, the rhythm of the world makes itself apparent, saying, have faith in yourself, you are this.'"
      ]
     },
     "execution_count": 101,
     "metadata": {},
     "output_type": "execute_result"
    }
   ],
   "source": [
    "tweet_data.tweet_text_clean[0]"
   ]
  },
  {
   "cell_type": "code",
   "execution_count": null,
   "metadata": {},
   "outputs": [],
   "source": []
  }
 ],
 "metadata": {
  "kernelspec": {
   "display_name": "Python 3",
   "language": "python",
   "name": "python3"
  },
  "language_info": {
   "codemirror_mode": {
    "name": "ipython",
    "version": 3
   },
   "file_extension": ".py",
   "mimetype": "text/x-python",
   "name": "python",
   "nbconvert_exporter": "python",
   "pygments_lexer": "ipython3",
   "version": "3.6.8"
  },
  "varInspector": {
   "cols": {
    "lenName": 16,
    "lenType": 16,
    "lenVar": 40
   },
   "kernels_config": {
    "python": {
     "delete_cmd_postfix": "",
     "delete_cmd_prefix": "del ",
     "library": "var_list.py",
     "varRefreshCmd": "print(var_dic_list())"
    },
    "r": {
     "delete_cmd_postfix": ") ",
     "delete_cmd_prefix": "rm(",
     "library": "var_list.r",
     "varRefreshCmd": "cat(var_dic_list()) "
    }
   },
   "types_to_exclude": [
    "module",
    "function",
    "builtin_function_or_method",
    "instance",
    "_Feature"
   ],
   "window_display": false
  }
 },
 "nbformat": 4,
 "nbformat_minor": 2
}
